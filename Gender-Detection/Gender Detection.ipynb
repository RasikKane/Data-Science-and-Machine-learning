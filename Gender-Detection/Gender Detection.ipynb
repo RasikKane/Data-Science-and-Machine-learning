{
 "cells": [
  {
   "cell_type": "markdown",
   "metadata": {},
   "source": [
    "# Predicting Gender based upon name of a person"
   ]
  },
  {
   "cell_type": "code",
   "execution_count": 1,
   "metadata": {},
   "outputs": [],
   "source": [
    "import nltk as nltk\n",
    "from nltk.corpus import names\n",
    "import random\n",
    "import numpy as np\n",
    "from collections import Counter"
   ]
  },
  {
   "cell_type": "markdown",
   "metadata": {},
   "source": [
    "## Design Single Feature extracted from a name\n",
    "**example gender_features('Shrek') = {'last_letter': 'k'}**"
   ]
  },
  {
   "cell_type": "code",
   "execution_count": 2,
   "metadata": {},
   "outputs": [
    {
     "name": "stdout",
     "output_type": "stream",
     "text": [
      "sample size - Train: 3944, Test:  4000\n",
      "Classifier accuracy: 75.97%,   IQR accuracy:  75.62 : 76.28\n",
      "sample size - Train: 4944, Test:  3000\n",
      "Classifier accuracy: 75.98%,   IQR accuracy:  75.62 : 76.31\n",
      "sample size - Train: 5944, Test:  2000\n",
      "Classifier accuracy: 76.00%,   IQR accuracy:  75.60 : 76.40\n",
      "sample size - Train: 6944, Test:  1000\n",
      "Classifier accuracy: 75.96%,   IQR accuracy:  75.50 : 76.45\n",
      "sample size - Train: 7444, Test:  500\n",
      "Classifier accuracy: 75.99%,   IQR accuracy:  75.46 : 76.55\n",
      "Mark is: male\n",
      "Precilla is: female\n",
      "Most Informative Features\n",
      "             last_letter = 'a'            female : male   =     35.5 : 1.0\n",
      "             last_letter = 'k'              male : female =     32.1 : 1.0\n",
      "             last_letter = 'v'              male : female =     16.6 : 1.0\n",
      "             last_letter = 'f'              male : female =     14.8 : 1.0\n",
      "             last_letter = 'p'              male : female =     12.7 : 1.0\n",
      "             last_letter = 'd'              male : female =      9.4 : 1.0\n",
      "             last_letter = 'm'              male : female =      8.6 : 1.0\n",
      "             last_letter = 'o'              male : female =      7.9 : 1.0\n",
      "             last_letter = 'r'              male : female =      7.0 : 1.0\n",
      "             last_letter = 'g'              male : female =      5.9 : 1.0\n"
     ]
    }
   ],
   "source": [
    "def gender_features(word):\n",
    "    return {\n",
    "            'last_letter': word[-1],\n",
    "            }\n",
    "\n",
    "male_names = [(name, 'male') for name in names.words('male.txt')]\n",
    "female_names = [(name, 'female') for name in names.words('female.txt')]\n",
    "\n",
    "labeled_names = male_names + female_names\n",
    "mean_acc = 0\n",
    "accArr = []\n",
    "for split_count in [4000, 3000, 2000, 1000, 500]:\n",
    "    for _ in range(100):\n",
    "        random.shuffle(labeled_names)\n",
    "        featuresets = [(gender_features(n), gender) for (n, gender) in labeled_names]\n",
    "        train_set, test_set = featuresets[split_count:], featuresets[:split_count]\n",
    "        classifier = nltk.NaiveBayesClassifier.train(train_set)\n",
    "        acc = nltk.classify.accuracy(classifier, test_set)*100\n",
    "        accArr.append(acc)\n",
    "        mean_acc += acc/100\n",
    "    print(\"sample size - Train: {}, Test:  {}\".format(len(train_set),len(test_set)))\n",
    "    print(\"Classifier accuracy: {:.2f}%,   IQR accuracy:  {:.2f} : {:.2f}\".format(np.mean(accArr),\n",
    "                                                                            np.percentile(accArr, 25),\n",
    "                                                                            np.percentile(accArr, 75)))\n",
    "\n",
    "ans1 = classifier.classify(gender_features('Mark'))\n",
    "ans2 = classifier.classify(gender_features('Precilla'))\n",
    "\n",
    "print(\"Mark is:\", ans1)\n",
    "print(\"Precilla is:\", ans2)\n",
    "\n",
    "classifier.show_most_informative_features()\n",
    "\n",
    "# print(nltk.classify.accuracy(classifier, test_set))\n",
    "\n",
    "\n",
    "\n",
    "\n",
    "\n"
   ]
  },
  {
   "cell_type": "markdown",
   "metadata": {},
   "source": [
    "### Design set of features extracted from a name"
   ]
  },
  {
   "cell_type": "code",
   "execution_count": 3,
   "metadata": {},
   "outputs": [
    {
     "name": "stdout",
     "output_type": "stream",
     "text": [
      "sample size - Train: 3944, Test:  4000\n",
      "Classifier accuracy: 79.30%,   IQR accuracy:  79.02 : 79.66\n",
      "sample size - Train: 4944, Test:  3000\n",
      "Classifier accuracy: 79.49%,   IQR accuracy:  79.12 : 79.88\n",
      "sample size - Train: 5944, Test:  2000\n",
      "Classifier accuracy: 79.55%,   IQR accuracy:  79.12 : 80.05\n",
      "sample size - Train: 6944, Test:  1000\n",
      "Classifier accuracy: 79.58%,   IQR accuracy:  79.10 : 80.10\n",
      "sample size - Train: 7444, Test:  500\n",
      "Classifier accuracy: 79.65%,   IQR accuracy:  79.03 : 80.20\n",
      "Mark is: male\n",
      "Precilla is: female\n",
      "Counter({'last_2_letters': 50, 'last_3_letters': 50})\n",
      "Most Informative Features\n",
      "          last_2_letters = 'na'           female : male   =     99.6 : 1.0\n",
      "          last_2_letters = 'la'           female : male   =     73.9 : 1.0\n",
      "          last_2_letters = 'ia'           female : male   =     40.2 : 1.0\n",
      "          last_2_letters = 'sa'           female : male   =     35.8 : 1.0\n",
      "          last_2_letters = 'us'             male : female =     27.8 : 1.0\n",
      "          last_2_letters = 'do'             male : female =     27.2 : 1.0\n",
      "          last_2_letters = 'ra'           female : male   =     26.2 : 1.0\n",
      "          last_2_letters = 'io'             male : female =     26.1 : 1.0\n",
      "          last_2_letters = 'rd'             male : female =     26.1 : 1.0\n",
      "          last_3_letters = 'tta'          female : male   =     26.0 : 1.0\n"
     ]
    }
   ],
   "source": [
    "def gender_features(word):\n",
    "    return {\n",
    "            'last_2_letters': word[-2:],\n",
    "            'last_3_letters': word[-3:],\n",
    "            # 'last_vowel': (word[-1].lower() in 'aeiou'),\n",
    "            }\n",
    "\n",
    "male_names = [(name, 'male') for name in names.words('male.txt')]\n",
    "female_names = [(name, 'female') for name in names.words('female.txt')]\n",
    "\n",
    "labeled_names = male_names + female_names\n",
    "mean_acc = 0\n",
    "accArr = []\n",
    "for split_count in [4000, 3000, 2000, 1000, 500]:\n",
    "    for _ in range(100):\n",
    "        random.shuffle(labeled_names)\n",
    "        featuresets = [(gender_features(n), gender) for (n, gender) in labeled_names]\n",
    "        train_set, test_set = featuresets[split_count:], featuresets[:split_count]\n",
    "        classifier = nltk.NaiveBayesClassifier.train(train_set)\n",
    "        acc = nltk.classify.accuracy(classifier, test_set)*100\n",
    "        accArr.append(acc)\n",
    "        mean_acc += acc/100\n",
    "    print(\"sample size - Train: {}, Test:  {}\".format(len(train_set),len(test_set)))\n",
    "    print(\"Classifier accuracy: {:.2f}%,   IQR accuracy:  {:.2f} : {:.2f}\".format(np.mean(accArr),\n",
    "                                                                            np.percentile(accArr, 25),\n",
    "                                                                            np.percentile(accArr, 75)))\n",
    "\n",
    "ans1 = classifier.classify(gender_features('Mark'))\n",
    "ans2 = classifier.classify(gender_features('Precilla'))\n",
    "\n",
    "print(\"Mark is:\", ans1)\n",
    "print(\"Precilla is:\", ans2)\n",
    "\n",
    "# print density of 100 most important feature categories for trained classifier\n",
    "feature_list = []\n",
    "for feature, _ in classifier.most_informative_features(100):\n",
    "    feature_list.append(feature)\n",
    "print(Counter(feature_list))\n",
    "\n",
    "classifier.show_most_informative_features()\n",
    "\n",
    "\n",
    "\n",
    "\n",
    "\n"
   ]
  },
  {
   "cell_type": "code",
   "execution_count": null,
   "metadata": {},
   "outputs": [],
   "source": []
  }
 ],
 "metadata": {
  "kernelspec": {
   "display_name": "Python 3",
   "language": "python",
   "name": "python3"
  },
  "language_info": {
   "codemirror_mode": {
    "name": "ipython",
    "version": 3
   },
   "file_extension": ".py",
   "mimetype": "text/x-python",
   "name": "python",
   "nbconvert_exporter": "python",
   "pygments_lexer": "ipython3",
   "version": "3.7.4"
  },
  "toc": {
   "base_numbering": 1,
   "nav_menu": {},
   "number_sections": true,
   "sideBar": true,
   "skip_h1_title": false,
   "title_cell": "Table of Contents",
   "title_sidebar": "Contents",
   "toc_cell": false,
   "toc_position": {},
   "toc_section_display": true,
   "toc_window_display": false
  }
 },
 "nbformat": 4,
 "nbformat_minor": 4
}
