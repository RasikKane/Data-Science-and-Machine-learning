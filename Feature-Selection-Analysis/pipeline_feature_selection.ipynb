{
 "cells": [
  {
   "cell_type": "markdown",
   "metadata": {},
   "source": [
    "# Assignment 2 : COMP47750 Machine Learning with Python \n",
    "### Submitted by - Rasik Kane - SN 19200172"
   ]
  },
  {
   "cell_type": "code",
   "execution_count": 432,
   "metadata": {},
   "outputs": [],
   "source": [
    "import numpy as np\n",
    "import pandas as pd\n",
    "import matplotlib.pyplot as plt\n",
    "from tabulate import tabulate\n",
    "from collections import Counter\n",
    "import warnings\n",
    "warnings.filterwarnings('ignore')"
   ]
  },
  {
   "cell_type": "code",
   "execution_count": 433,
   "metadata": {},
   "outputs": [],
   "source": [
    "from sklearn.utils import shuffle\n",
    "from sklearn.model_selection import cross_val_score, cross_val_predict\n",
    "from sklearn.metrics import accuracy_score, classification_report\n",
    "from sklearn.metrics import precision_recall_fscore_support as score\n",
    "from sklearn.model_selection import StratifiedKFold\n",
    "from sklearn.feature_selection import RFECV\n",
    "from imblearn.pipeline import Pipeline as imb_pipeline\n",
    "\n",
    "from sklearn.neighbors import KNeighborsClassifier\n",
    "from sklearn.ensemble import GradientBoostingClassifier\n",
    "from sklearn.tree import DecisionTreeClassifier\n",
    "from sklearn.linear_model import LogisticRegression\n",
    "\n",
    "from mlxtend.feature_selection import SequentialFeatureSelector as SFS\n",
    "from mlxtend.plotting import plot_sequential_feature_selection as plot_sfs"
   ]
  },
  {
   "cell_type": "code",
   "execution_count": 434,
   "metadata": {},
   "outputs": [],
   "source": [
    "# define seed for random_state\n",
    "seed = 0\n",
    "# cross valisation folds\n",
    "cv_folds = 10"
   ]
  },
  {
   "cell_type": "markdown",
   "metadata": {},
   "source": [
    "## Supporting functions"
   ]
  },
  {
   "cell_type": "markdown",
   "metadata": {},
   "source": [
    "### Generate dataframe holding classifier result statistics"
   ]
  },
  {
   "cell_type": "code",
   "execution_count": 435,
   "metadata": {},
   "outputs": [],
   "source": [
    "def make_results(results, stat_col =['model','acc','prec_minr','recall_minr',\n",
    "                                     'f1_minr','test%_minr','predict%_minr']):\n",
    "    \n",
    "    df_stat = pd.DataFrame(columns= stat_col\n",
    "                          )\n",
    "    for result in results:\n",
    "        df_stat = df_stat.append(result, ignore_index=True)\n",
    "        \n",
    "    return df_stat"
   ]
  },
  {
   "cell_type": "markdown",
   "metadata": {},
   "source": [
    "### Print results"
   ]
  },
  {
   "cell_type": "code",
   "execution_count": 436,
   "metadata": {},
   "outputs": [],
   "source": [
    "def print_results(df_stat):\n",
    "    print(tabulate(df_stat, headers=df_stat.columns,\n",
    "                   tablefmt=\"orgtbl\", \n",
    "                   floatfmt=\".2f\",\n",
    "                   showindex=False))\n",
    "    "
   ]
  },
  {
   "cell_type": "markdown",
   "metadata": {},
   "source": [
    "### Plot from a dataframe"
   ]
  },
  {
   "cell_type": "code",
   "execution_count": 437,
   "metadata": {},
   "outputs": [],
   "source": [
    "def plot_df_bar(df, kind='bar',figsize=(6,4),grid=True, use_index=True,colormap='winter', rot=20,\n",
    "                ylabel='Accuracy', xlabel='All feautures',title= 'Model Accuracy Plot', show=True):\n",
    "                df.dropna().plot(kind=kind,figsize=figsize,grid=grid, use_index=use_index, rot=rot, colormap=colormap)\n",
    "                plt.ylabel(ylabel)\n",
    "                plt.xlabel(xlabel)\n",
    "                plt.title(title)\n",
    "                if show:\n",
    "                    plt.show()"
   ]
  },
  {
   "cell_type": "markdown",
   "metadata": {},
   "source": [
    "### Predict classification with hold-out"
   ]
  },
  {
   "cell_type": "code",
   "execution_count": 438,
   "metadata": {},
   "outputs": [],
   "source": [
    "def predict_hold_out(model, X_train, X_test, y_train, y_test, min_label, display = False):\n",
    "\n",
    "    y_pred = model.fit(X_train, y_train).predict(X_test)\n",
    "    pred_neg = Counter(y_pred)[min_label]\n",
    "    test_neg = Counter(y_test)[min_label]\n",
    "    accuracy = accuracy_score(y_pred, y_test)\n",
    "    precision, recall, fscore, support = score(y_test, y_pred)\n",
    "    test_minority_proportion = (test_neg/len(y_test))   \n",
    "    predict_minority_proportion = (pred_neg/len(y_pred))\n",
    "    \n",
    "    if display:\n",
    "        print(classification_report(y_test, y_pred))\n",
    "\n",
    "\n",
    "    # columns for result about feature classification accuracy and bias   \n",
    "    columns=['model','acc','prec_minr','recall_minr','f1_minr','test%_minr','predict%_minr']\n",
    "    # return result\n",
    "    result = pd.Series([type(model).__name__,accuracy, precision[1], recall[1], fscore[1],\n",
    "                        test_minority_proportion, predict_minority_proportion\n",
    "                       ],index = columns)\n",
    "\n",
    "    return result\n"
   ]
  },
  {
   "cell_type": "markdown",
   "metadata": {},
   "source": [
    "### Predict classification with cross validation"
   ]
  },
  {
   "cell_type": "code",
   "execution_count": 439,
   "metadata": {},
   "outputs": [],
   "source": [
    "def predict_cross_val(model, adasyn, X, y, min_label, cvVal = 10, display = False, upsample=True):\n",
    "    \n",
    "    if upsample:\n",
    "        pipe = imb_pipeline([('adasyn', adasyn), ('model', model)])\n",
    "    else:\n",
    "        pipe = model\n",
    "        \n",
    "    y_pred = cross_val_predict(pipe,X, y, cv=cvVal)\n",
    "    pred_neg = Counter(y_pred)[min_label]\n",
    "    test_neg = Counter(y)[min_label] \n",
    "    accuracy = accuracy_score(y_pred, y)\n",
    "    precision, recall, fscore, support = score(y, y_pred)\n",
    "    test_minority_proportion = (test_neg/len(y))\n",
    "    predict_minority_proportion = (pred_neg/len(y_pred))\n",
    "    \n",
    "    if display:\n",
    "        print(classification_report(y, y_pred))\n",
    "\n",
    "    # columns for result about feature classification accuracy and bias   \n",
    "    columns=['model','acc','prec_minr','recall_minr','f1_minr','test%_minr','predict%_minr']\n",
    "    # return result\n",
    "    result = pd.Series([type(model).__name__,accuracy, precision[1], recall[1], fscore[1],\n",
    "                        test_minority_proportion, predict_minority_proportion\n",
    "                       ],index = columns)\n",
    "\n",
    "    return result\n"
   ]
  },
  {
   "cell_type": "markdown",
   "metadata": {},
   "source": [
    "---\n",
    "\n",
    "# Q1 Bias rectification & evaluation\n",
    "\n",
    "<span style=\"color:blue\">  \n",
    "\n",
    "* assess the impact of bias rectification techniques on machine learning using pipeline and cross validation\n",
    "* evaluate differences in evaluations using hold out and cross validation\n",
    "</span>\n",
    "<br>\n",
    "<br>"
   ]
  },
  {
   "cell_type": "markdown",
   "metadata": {},
   "source": [
    "**Data Set Information**<br>\n",
    "The dataset contains cases from a study that was conducted between 1958 and 1970 at the University of Chicago's Billings Hospital on the survival of patients who had undergone surgery for breast cancer.\n",
    "\n",
    "**Attribute Information**\n",
    "* Age of patient at time of operation (numerical) - Importance in virtues: **Immunity, healing rate, psychology** \n",
    "* Patient's year of operation (year - 1900, numerical)  - Importance  in virtues: **medical technology, contemporary diseases affecting immunity** \n",
    "* Number of positive axillary nodes detected (numerical) - Importance  in virtues: **Degree of cancer, length of chemo sessions** \n",
    "* Survival status (class attribute)\n",
    "    * 1 = the patient survived 5 years or longer **[GE5]**\n",
    "    * 2 = the patient died within 5 year **[L5]**"
   ]
  },
  {
   "cell_type": "code",
   "execution_count": 440,
   "metadata": {
    "scrolled": false
   },
   "outputs": [
    {
     "data": {
      "text/html": [
       "<div>\n",
       "<style scoped>\n",
       "    .dataframe tbody tr th:only-of-type {\n",
       "        vertical-align: middle;\n",
       "    }\n",
       "\n",
       "    .dataframe tbody tr th {\n",
       "        vertical-align: top;\n",
       "    }\n",
       "\n",
       "    .dataframe thead th {\n",
       "        text-align: right;\n",
       "    }\n",
       "</style>\n",
       "<table border=\"1\" class=\"dataframe\">\n",
       "  <thead>\n",
       "    <tr style=\"text-align: right;\">\n",
       "      <th></th>\n",
       "      <th>Age</th>\n",
       "      <th>Year</th>\n",
       "      <th>NNodes</th>\n",
       "      <th>Class</th>\n",
       "      <th>Survived</th>\n",
       "    </tr>\n",
       "  </thead>\n",
       "  <tbody>\n",
       "    <tr>\n",
       "      <th>0</th>\n",
       "      <td>30</td>\n",
       "      <td>64</td>\n",
       "      <td>1</td>\n",
       "      <td>1</td>\n",
       "      <td>GE5</td>\n",
       "    </tr>\n",
       "    <tr>\n",
       "      <th>1</th>\n",
       "      <td>30</td>\n",
       "      <td>62</td>\n",
       "      <td>3</td>\n",
       "      <td>1</td>\n",
       "      <td>GE5</td>\n",
       "    </tr>\n",
       "    <tr>\n",
       "      <th>2</th>\n",
       "      <td>30</td>\n",
       "      <td>65</td>\n",
       "      <td>0</td>\n",
       "      <td>1</td>\n",
       "      <td>GE5</td>\n",
       "    </tr>\n",
       "    <tr>\n",
       "      <th>3</th>\n",
       "      <td>31</td>\n",
       "      <td>59</td>\n",
       "      <td>2</td>\n",
       "      <td>1</td>\n",
       "      <td>GE5</td>\n",
       "    </tr>\n",
       "    <tr>\n",
       "      <th>4</th>\n",
       "      <td>31</td>\n",
       "      <td>65</td>\n",
       "      <td>4</td>\n",
       "      <td>1</td>\n",
       "      <td>GE5</td>\n",
       "    </tr>\n",
       "  </tbody>\n",
       "</table>\n",
       "</div>"
      ],
      "text/plain": [
       "   Age  Year  NNodes  Class Survived\n",
       "0   30    64       1      1      GE5\n",
       "1   30    62       3      1      GE5\n",
       "2   30    65       0      1      GE5\n",
       "3   31    59       2      1      GE5\n",
       "4   31    65       4      1      GE5"
      ]
     },
     "execution_count": 440,
     "metadata": {},
     "output_type": "execute_result"
    }
   ],
   "source": [
    "surv = pd.read_csv('survival.csv')\n",
    "surv['Survived'] = 'GE5'\n",
    "surv.loc[surv['Class']==2,'Survived']='L5'\n",
    "surv.head()"
   ]
  },
  {
   "cell_type": "markdown",
   "metadata": {},
   "source": [
    "## Data Analysis"
   ]
  },
  {
   "cell_type": "markdown",
   "metadata": {},
   "source": [
    "### Statistics of data\n",
    "* **Age**:     Range of values ( 30-83 ) ; Distribution from observation of quartiles (evenly distributed) \n",
    "* **Year**:    Range of values ( 58-69 ) ; Distribution from observation of quartiles (evenly distributed)\n",
    "* **NNodes**:  Range of values ( 0-52 ) ; Distribution from observation of quartiles (Highly skewed to right; 75% data lies within ~2% of range)\n",
    "* **Class**:   class of values [ '1 --> GE5', '2 --> L5' ] ; Distribution from observation of quartiles (Possibly evenly distributed)"
   ]
  },
  {
   "cell_type": "code",
   "execution_count": 441,
   "metadata": {
    "scrolled": true
   },
   "outputs": [
    {
     "data": {
      "text/html": [
       "<div>\n",
       "<style scoped>\n",
       "    .dataframe tbody tr th:only-of-type {\n",
       "        vertical-align: middle;\n",
       "    }\n",
       "\n",
       "    .dataframe tbody tr th {\n",
       "        vertical-align: top;\n",
       "    }\n",
       "\n",
       "    .dataframe thead th {\n",
       "        text-align: right;\n",
       "    }\n",
       "</style>\n",
       "<table border=\"1\" class=\"dataframe\">\n",
       "  <thead>\n",
       "    <tr style=\"text-align: right;\">\n",
       "      <th></th>\n",
       "      <th>Age</th>\n",
       "      <th>Year</th>\n",
       "      <th>NNodes</th>\n",
       "      <th>Class</th>\n",
       "    </tr>\n",
       "  </thead>\n",
       "  <tbody>\n",
       "    <tr>\n",
       "      <th>count</th>\n",
       "      <td>306.000000</td>\n",
       "      <td>306.000000</td>\n",
       "      <td>306.000000</td>\n",
       "      <td>306.000000</td>\n",
       "    </tr>\n",
       "    <tr>\n",
       "      <th>mean</th>\n",
       "      <td>52.457516</td>\n",
       "      <td>62.852941</td>\n",
       "      <td>4.026144</td>\n",
       "      <td>1.264706</td>\n",
       "    </tr>\n",
       "    <tr>\n",
       "      <th>std</th>\n",
       "      <td>10.803452</td>\n",
       "      <td>3.249405</td>\n",
       "      <td>7.189654</td>\n",
       "      <td>0.441899</td>\n",
       "    </tr>\n",
       "    <tr>\n",
       "      <th>min</th>\n",
       "      <td>30.000000</td>\n",
       "      <td>58.000000</td>\n",
       "      <td>0.000000</td>\n",
       "      <td>1.000000</td>\n",
       "    </tr>\n",
       "    <tr>\n",
       "      <th>25%</th>\n",
       "      <td>44.000000</td>\n",
       "      <td>60.000000</td>\n",
       "      <td>0.000000</td>\n",
       "      <td>1.000000</td>\n",
       "    </tr>\n",
       "    <tr>\n",
       "      <th>50%</th>\n",
       "      <td>52.000000</td>\n",
       "      <td>63.000000</td>\n",
       "      <td>1.000000</td>\n",
       "      <td>1.000000</td>\n",
       "    </tr>\n",
       "    <tr>\n",
       "      <th>75%</th>\n",
       "      <td>60.750000</td>\n",
       "      <td>65.750000</td>\n",
       "      <td>4.000000</td>\n",
       "      <td>2.000000</td>\n",
       "    </tr>\n",
       "    <tr>\n",
       "      <th>max</th>\n",
       "      <td>83.000000</td>\n",
       "      <td>69.000000</td>\n",
       "      <td>52.000000</td>\n",
       "      <td>2.000000</td>\n",
       "    </tr>\n",
       "  </tbody>\n",
       "</table>\n",
       "</div>"
      ],
      "text/plain": [
       "              Age        Year      NNodes       Class\n",
       "count  306.000000  306.000000  306.000000  306.000000\n",
       "mean    52.457516   62.852941    4.026144    1.264706\n",
       "std     10.803452    3.249405    7.189654    0.441899\n",
       "min     30.000000   58.000000    0.000000    1.000000\n",
       "25%     44.000000   60.000000    0.000000    1.000000\n",
       "50%     52.000000   63.000000    1.000000    1.000000\n",
       "75%     60.750000   65.750000    4.000000    2.000000\n",
       "max     83.000000   69.000000   52.000000    2.000000"
      ]
     },
     "execution_count": 441,
     "metadata": {},
     "output_type": "execute_result"
    }
   ],
   "source": [
    "surv.describe()"
   ]
  },
  {
   "cell_type": "code",
   "execution_count": 442,
   "metadata": {},
   "outputs": [
    {
     "data": {
      "text/plain": [
       "Age         49\n",
       "Year        12\n",
       "NNodes      31\n",
       "Class        2\n",
       "Survived     2\n",
       "dtype: int64"
      ]
     },
     "execution_count": 442,
     "metadata": {},
     "output_type": "execute_result"
    }
   ],
   "source": [
    "surv.nunique()"
   ]
  },
  {
   "cell_type": "markdown",
   "metadata": {},
   "source": [
    "### Correlation of data\n",
    "* No definite correlation is observed amounst input variables and with target variable 'Class'\n",
    "* **NNodes** show 28% correaltion with target variable 'Class' - nodes of cancer seem a good indicator to life expectancy post operation"
   ]
  },
  {
   "cell_type": "code",
   "execution_count": 443,
   "metadata": {},
   "outputs": [
    {
     "data": {
      "text/html": [
       "<style  type=\"text/css\" >\n",
       "#T_89ed11b4_2a9b_11eb_85f1_8c04ba99a4f9row0_col0,#T_89ed11b4_2a9b_11eb_85f1_8c04ba99a4f9row1_col1,#T_89ed11b4_2a9b_11eb_85f1_8c04ba99a4f9row2_col2,#T_89ed11b4_2a9b_11eb_85f1_8c04ba99a4f9row3_col3{\n",
       "            background-color:  #b40426;\n",
       "            color:  #f1f1f1;\n",
       "        }#T_89ed11b4_2a9b_11eb_85f1_8c04ba99a4f9row0_col1{\n",
       "            background-color:  #5875e1;\n",
       "            color:  #000000;\n",
       "        }#T_89ed11b4_2a9b_11eb_85f1_8c04ba99a4f9row0_col2,#T_89ed11b4_2a9b_11eb_85f1_8c04ba99a4f9row1_col3,#T_89ed11b4_2a9b_11eb_85f1_8c04ba99a4f9row2_col0,#T_89ed11b4_2a9b_11eb_85f1_8c04ba99a4f9row2_col1,#T_89ed11b4_2a9b_11eb_85f1_8c04ba99a4f9row3_col1{\n",
       "            background-color:  #3b4cc0;\n",
       "            color:  #f1f1f1;\n",
       "        }#T_89ed11b4_2a9b_11eb_85f1_8c04ba99a4f9row0_col3{\n",
       "            background-color:  #506bda;\n",
       "            color:  #000000;\n",
       "        }#T_89ed11b4_2a9b_11eb_85f1_8c04ba99a4f9row1_col0{\n",
       "            background-color:  #6788ee;\n",
       "            color:  #000000;\n",
       "        }#T_89ed11b4_2a9b_11eb_85f1_8c04ba99a4f9row1_col2{\n",
       "            background-color:  #4b64d5;\n",
       "            color:  #f1f1f1;\n",
       "        }#T_89ed11b4_2a9b_11eb_85f1_8c04ba99a4f9row2_col3{\n",
       "            background-color:  #9bbcff;\n",
       "            color:  #000000;\n",
       "        }#T_89ed11b4_2a9b_11eb_85f1_8c04ba99a4f9row3_col0{\n",
       "            background-color:  #6180e9;\n",
       "            color:  #000000;\n",
       "        }#T_89ed11b4_2a9b_11eb_85f1_8c04ba99a4f9row3_col2{\n",
       "            background-color:  #a9c6fd;\n",
       "            color:  #000000;\n",
       "        }</style><table id=\"T_89ed11b4_2a9b_11eb_85f1_8c04ba99a4f9\" ><thead>    <tr>        <th class=\"blank level0\" ></th>        <th class=\"col_heading level0 col0\" >Age</th>        <th class=\"col_heading level0 col1\" >Year</th>        <th class=\"col_heading level0 col2\" >NNodes</th>        <th class=\"col_heading level0 col3\" >Class</th>    </tr></thead><tbody>\n",
       "                <tr>\n",
       "                        <th id=\"T_89ed11b4_2a9b_11eb_85f1_8c04ba99a4f9level0_row0\" class=\"row_heading level0 row0\" >Age</th>\n",
       "                        <td id=\"T_89ed11b4_2a9b_11eb_85f1_8c04ba99a4f9row0_col0\" class=\"data row0 col0\" >1.000000</td>\n",
       "                        <td id=\"T_89ed11b4_2a9b_11eb_85f1_8c04ba99a4f9row0_col1\" class=\"data row0 col1\" >0.089529</td>\n",
       "                        <td id=\"T_89ed11b4_2a9b_11eb_85f1_8c04ba99a4f9row0_col2\" class=\"data row0 col2\" >-0.063176</td>\n",
       "                        <td id=\"T_89ed11b4_2a9b_11eb_85f1_8c04ba99a4f9row0_col3\" class=\"data row0 col3\" >0.067950</td>\n",
       "            </tr>\n",
       "            <tr>\n",
       "                        <th id=\"T_89ed11b4_2a9b_11eb_85f1_8c04ba99a4f9level0_row1\" class=\"row_heading level0 row1\" >Year</th>\n",
       "                        <td id=\"T_89ed11b4_2a9b_11eb_85f1_8c04ba99a4f9row1_col0\" class=\"data row1 col0\" >0.089529</td>\n",
       "                        <td id=\"T_89ed11b4_2a9b_11eb_85f1_8c04ba99a4f9row1_col1\" class=\"data row1 col1\" >1.000000</td>\n",
       "                        <td id=\"T_89ed11b4_2a9b_11eb_85f1_8c04ba99a4f9row1_col2\" class=\"data row1 col2\" >-0.003764</td>\n",
       "                        <td id=\"T_89ed11b4_2a9b_11eb_85f1_8c04ba99a4f9row1_col3\" class=\"data row1 col3\" >-0.004768</td>\n",
       "            </tr>\n",
       "            <tr>\n",
       "                        <th id=\"T_89ed11b4_2a9b_11eb_85f1_8c04ba99a4f9level0_row2\" class=\"row_heading level0 row2\" >NNodes</th>\n",
       "                        <td id=\"T_89ed11b4_2a9b_11eb_85f1_8c04ba99a4f9row2_col0\" class=\"data row2 col0\" >-0.063176</td>\n",
       "                        <td id=\"T_89ed11b4_2a9b_11eb_85f1_8c04ba99a4f9row2_col1\" class=\"data row2 col1\" >-0.003764</td>\n",
       "                        <td id=\"T_89ed11b4_2a9b_11eb_85f1_8c04ba99a4f9row2_col2\" class=\"data row2 col2\" >1.000000</td>\n",
       "                        <td id=\"T_89ed11b4_2a9b_11eb_85f1_8c04ba99a4f9row2_col3\" class=\"data row2 col3\" >0.286768</td>\n",
       "            </tr>\n",
       "            <tr>\n",
       "                        <th id=\"T_89ed11b4_2a9b_11eb_85f1_8c04ba99a4f9level0_row3\" class=\"row_heading level0 row3\" >Class</th>\n",
       "                        <td id=\"T_89ed11b4_2a9b_11eb_85f1_8c04ba99a4f9row3_col0\" class=\"data row3 col0\" >0.067950</td>\n",
       "                        <td id=\"T_89ed11b4_2a9b_11eb_85f1_8c04ba99a4f9row3_col1\" class=\"data row3 col1\" >-0.004768</td>\n",
       "                        <td id=\"T_89ed11b4_2a9b_11eb_85f1_8c04ba99a4f9row3_col2\" class=\"data row3 col2\" >0.286768</td>\n",
       "                        <td id=\"T_89ed11b4_2a9b_11eb_85f1_8c04ba99a4f9row3_col3\" class=\"data row3 col3\" >1.000000</td>\n",
       "            </tr>\n",
       "    </tbody></table>"
      ],
      "text/plain": [
       "<pandas.io.formats.style.Styler at 0x1e1a3484588>"
      ]
     },
     "execution_count": 443,
     "metadata": {},
     "output_type": "execute_result"
    }
   ],
   "source": [
    "corr = surv.corr()\n",
    "corr.style.background_gradient(cmap='coolwarm')"
   ]
  },
  {
   "cell_type": "markdown",
   "metadata": {},
   "source": [
    "### Saggregate Input and Target features  \n",
    "Input Feature space: **X**; Target Feature: **y**\n",
    "* **From analysis of Target variable 'Survived', it is observed that data is UNBALANCED**\n",
    "    * Only 26% data belongs to target class L5 **[L5 is MINORITY class label]**\n",
    "    * 74% data belongs to target class GE5 "
   ]
  },
  {
   "cell_type": "code",
   "execution_count": 444,
   "metadata": {},
   "outputs": [
    {
     "data": {
      "text/plain": [
       "GE5    225\n",
       "L5      81\n",
       "Name: Survived, dtype: int64"
      ]
     },
     "execution_count": 444,
     "metadata": {},
     "output_type": "execute_result"
    }
   ],
   "source": [
    "surv['Survived'].value_counts() "
   ]
  },
  {
   "cell_type": "code",
   "execution_count": 445,
   "metadata": {},
   "outputs": [],
   "source": [
    "y = surv.pop('Survived').values\n",
    "surv.pop('Class')\n",
    "X = surv.values\n",
    "X, y = shuffle(X, y, random_state=1)"
   ]
  },
  {
   "cell_type": "code",
   "execution_count": 446,
   "metadata": {
    "scrolled": true
   },
   "outputs": [
    {
     "name": "stdout",
     "output_type": "stream",
     "text": [
      "Minority class : 0.26\n"
     ]
    }
   ],
   "source": [
    "print(\"Minority class : %0.2f\" % (Counter(y)['L5']/len(y)))"
   ]
  },
  {
   "cell_type": "markdown",
   "metadata": {},
   "source": [
    "### Assessment metrices \n",
    "* **Accuracy** : General performance assessment of trained model. Highly affected by bias; since model tries to overfit data to majority class\n",
    "\\begin{equation*}\n",
    "Accuracy = \\frac{TP +TN}{(TP +TN + FP + FN)}\n",
    "\\end{equation*}\n",
    "\n",
    "\n",
    "* **Precision** : Good metric when Cost of False positives is HIGH [mail spam detection, overspeed limit etc]\n",
    "\\begin{equation*}\n",
    "Precision = \\frac{TP}{(TP +FP)}\n",
    "\\end{equation*} \n",
    "\n",
    "\n",
    "* **Recall** : Good metric when Cost of False Negatives is HIGH [mail spam detection, overspeed limit etc]\n",
    "\\begin{equation*}\n",
    "Recall = \\frac{TP}{(TP +FN)}\n",
    "\\end{equation*}\n",
    "\n",
    "\n",
    "* **f1** : Good metric when data is biased\n",
    "\\begin{equation*}\n",
    "F1 = \\frac{2* Precision * Recall}{(Precision + recall)}\n",
    "\\end{equation*}"
   ]
  },
  {
   "cell_type": "markdown",
   "metadata": {},
   "source": [
    "\n",
    "**For unbalanced datasets, overfitting due to bias towards majority class is prime issue while training a model. Hence, accuracy metric DOES NOT convey measuraable performance. Instead, Precision and Recall are BETTER metrices. F1 score gives combined visualization of Precision and Recall; hence it is used as metri of choice**"
   ]
  },
  {
   "cell_type": "markdown",
   "metadata": {},
   "source": [
    "## Strategy to overcome bias introduced due to unbalanced data \n",
    "* With small imbalanced datasets, OVERSAMPLING is commonly used moethod for mitigating overfitting due to bias. Simple reason is UNDERSAMPLING PRUNES EXCESS MAJORITY CLASS; which reduces sample size hampering accuracy.\n",
    "* This solution attempts **ADASYN** for Upsampling\n",
    "ADASYN produces additional synthetic minority class samples by interpolating between real samples."
   ]
  },
  {
   "cell_type": "markdown",
   "metadata": {},
   "source": [
    "### Split data for hold-out testing\n",
    "* **Data is devided into train data and test data; 50% each** <br>\n",
    "* Same split data is used for comparing performance and immunity to bias on all 4 classifiers"
   ]
  },
  {
   "cell_type": "code",
   "execution_count": 447,
   "metadata": {},
   "outputs": [],
   "source": [
    "from sklearn.model_selection import train_test_split\n",
    "\n",
    "X_train, X_test, y_train, y_test = train_test_split(X, y, test_size = 1/2, random_state=42)"
   ]
  },
  {
   "cell_type": "markdown",
   "metadata": {},
   "source": [
    "### Results of hold-out"
   ]
  },
  {
   "cell_type": "code",
   "execution_count": 448,
   "metadata": {},
   "outputs": [],
   "source": [
    "results_hold_out = []"
   ]
  },
  {
   "cell_type": "markdown",
   "metadata": {},
   "source": [
    "### Results of cross validation"
   ]
  },
  {
   "cell_type": "code",
   "execution_count": 449,
   "metadata": {},
   "outputs": [],
   "source": [
    "results_cross_val = []"
   ]
  },
  {
   "cell_type": "markdown",
   "metadata": {},
   "source": [
    "### Results of cross validation - no upsampling"
   ]
  },
  {
   "cell_type": "code",
   "execution_count": 450,
   "metadata": {},
   "outputs": [],
   "source": [
    "results_cross_val_normal = []"
   ]
  },
  {
   "cell_type": "markdown",
   "metadata": {},
   "source": [
    "## ADASYN\n",
    "\n",
    "ADASYN a.k.a adaptive synthetic sampling algorithm is proposed in 2008 paper by Haibo H., Yang B., Garcia E., and Li S. Find paper [here](https://ieeexplore.ieee.org/document/4633969)\n",
    "* **SMOTE** algorithm for oversampling generate arbitrary synthetic minority samples to shift the classifier learning bias toward the minority class.  \n",
    "* **SMOTE-Boost** extends the concept with adaptive boosting for weight update strategy; specially for skewed data. This could be of potential use in this case as *input feature NNode is highly right skewed.*\n",
    "\n",
    "**ADASYN proposes a different way: more synthetic data is generated for minority class samples that are harder to learn\n",
    "compared to those minority samples that are easier to learn**\n",
    "* This improves decision boundry performance of ADASYN\n",
    "* ADASYN is known to have better RECALL than PRECISION. Since Present dataset relates to cancer and predictions about minority class 'Life expectancy Less than 5' should have NO FALSE NEGATIVE; ADASYN should be better at handling the problem.   "
   ]
  },
  {
   "cell_type": "markdown",
   "metadata": {},
   "source": [
    "### Define ADASYN model"
   ]
  },
  {
   "cell_type": "code",
   "execution_count": 451,
   "metadata": {},
   "outputs": [],
   "source": [
    "from imblearn.over_sampling import ADASYN"
   ]
  },
  {
   "cell_type": "code",
   "execution_count": 452,
   "metadata": {},
   "outputs": [],
   "source": [
    "adasyn = ADASYN(sampling_strategy='minority')\n",
    "X_train_res, y_train_res = adasyn.fit_sample(X_train, y_train)"
   ]
  },
  {
   "cell_type": "markdown",
   "metadata": {},
   "source": [
    "### Upsampling distribution after adding synthetic minority samples"
   ]
  },
  {
   "cell_type": "code",
   "execution_count": 453,
   "metadata": {},
   "outputs": [
    {
     "name": "stdout",
     "output_type": "stream",
     "text": [
      "Original Training\n",
      "Majority class: 112\n",
      "Minority class: 41\n",
      "Upsampled Training\n",
      "Majority class: 112\n",
      "Minority class: 119\n"
     ]
    }
   ],
   "source": [
    "print(\"Original Training\")\n",
    "print(\"Majority class:\",Counter(y_train)['GE5'])\n",
    "print(\"Minority class:\",Counter(y_train)['L5'])\n",
    "print(\"Upsampled Training\")\n",
    "print(\"Majority class:\",Counter(y_train_res)['GE5'])\n",
    "print(\"Minority class:\",Counter(y_train_res)['L5'])"
   ]
  },
  {
   "cell_type": "markdown",
   "metadata": {},
   "source": [
    "<br><br>\n",
    "## Evaluate classification with upsampled data"
   ]
  },
  {
   "cell_type": "markdown",
   "metadata": {},
   "source": [
    "### Set of classification models"
   ]
  },
  {
   "cell_type": "code",
   "execution_count": 454,
   "metadata": {},
   "outputs": [],
   "source": [
    "models = {}\n",
    "models['kNN_clf'] = KNeighborsClassifier(n_neighbors=3)\n",
    "models['dtree_clf'] = DecisionTreeClassifier(criterion='gini',min_impurity_decrease=0.01)\n",
    "models['logreg_clf'] = LogisticRegression(max_iter=10000, solver = 'sag', random_state=0)\n",
    "models['gb_clf'] = GradientBoostingClassifier()"
   ]
  },
  {
   "cell_type": "markdown",
   "metadata": {},
   "source": [
    "### Hold - Out classification"
   ]
  },
  {
   "cell_type": "code",
   "execution_count": 455,
   "metadata": {},
   "outputs": [],
   "source": [
    "results_hold_out_upsampled=[]\n",
    "for model in models:\n",
    "    pred_results_ho_up = predict_hold_out(models[model], X_train_res, X_test, y_train_res, y_test, min_label='L5')\n",
    "    results_hold_out_upsampled.append(pred_results_ho_up)\n",
    "results_hold_out = make_results(results_hold_out_upsampled)"
   ]
  },
  {
   "cell_type": "markdown",
   "metadata": {},
   "source": [
    "### Display results for Hold - out"
   ]
  },
  {
   "cell_type": "code",
   "execution_count": 456,
   "metadata": {
    "scrolled": true
   },
   "outputs": [
    {
     "name": "stdout",
     "output_type": "stream",
     "text": [
      "| model                      |   acc |   prec_minr |   recall_minr |   f1_minr |   test%_minr |   predict%_minr |\n",
      "|----------------------------+-------+-------------+---------------+-----------+--------------+-----------------|\n",
      "| KNeighborsClassifier       |  0.62 |        0.34 |          0.50 |      0.41 |         0.26 |            0.38 |\n",
      "| DecisionTreeClassifier     |  0.58 |        0.35 |          0.70 |      0.47 |         0.26 |            0.52 |\n",
      "| LogisticRegression         |  0.67 |        0.41 |          0.60 |      0.49 |         0.26 |            0.38 |\n",
      "| GradientBoostingClassifier |  0.63 |        0.36 |          0.53 |      0.42 |         0.26 |            0.39 |\n"
     ]
    }
   ],
   "source": [
    "print_results(results_hold_out)"
   ]
  },
  {
   "cell_type": "markdown",
   "metadata": {},
   "source": [
    "### Cross-validation with ADASYN classification"
   ]
  },
  {
   "cell_type": "code",
   "execution_count": 457,
   "metadata": {},
   "outputs": [],
   "source": [
    "results_cross_val_upsampled=[]\n",
    "for model in models:\n",
    "    pred_results_cv_up = predict_cross_val(models[model], adasyn, X,y, min_label='L5')\n",
    "    results_cross_val_upsampled.append(pred_results_cv_up)\n",
    "results_cross_val = make_results(results_cross_val_upsampled)"
   ]
  },
  {
   "cell_type": "markdown",
   "metadata": {},
   "source": [
    "### Display results for cross-validation with ADASYN "
   ]
  },
  {
   "cell_type": "code",
   "execution_count": 458,
   "metadata": {
    "scrolled": true
   },
   "outputs": [
    {
     "name": "stdout",
     "output_type": "stream",
     "text": [
      "| model                      |   acc |   prec_minr |   recall_minr |   f1_minr |   test%_minr |   predict%_minr |\n",
      "|----------------------------+-------+-------------+---------------+-----------+--------------+-----------------|\n",
      "| KNeighborsClassifier       |  0.60 |        0.35 |          0.58 |      0.44 |         0.26 |            0.44 |\n",
      "| DecisionTreeClassifier     |  0.66 |        0.40 |          0.57 |      0.47 |         0.26 |            0.37 |\n",
      "| LogisticRegression         |  0.71 |        0.47 |          0.63 |      0.54 |         0.26 |            0.36 |\n",
      "| GradientBoostingClassifier |  0.61 |        0.34 |          0.51 |      0.41 |         0.26 |            0.39 |\n"
     ]
    }
   ],
   "source": [
    "print_results(results_cross_val)"
   ]
  },
  {
   "cell_type": "markdown",
   "metadata": {},
   "source": [
    "<br><br>\n",
    "## Evaluate classification without upsampled data"
   ]
  },
  {
   "cell_type": "markdown",
   "metadata": {},
   "source": [
    "### Cross-validation classification"
   ]
  },
  {
   "cell_type": "code",
   "execution_count": 459,
   "metadata": {},
   "outputs": [],
   "source": [
    "results_cross_val_norm=[]\n",
    "for model in models:\n",
    "    pred_results_cv = predict_cross_val(models[model], adasyn, X,y, min_label='L5', upsample=False)\n",
    "    results_cross_val_norm.append(pred_results_cv)\n",
    "results_cross_val_normal = make_results(results_cross_val_norm)"
   ]
  },
  {
   "cell_type": "markdown",
   "metadata": {},
   "source": [
    "### Display results for Cross-validation WITHOUT UPSAMPLING"
   ]
  },
  {
   "cell_type": "code",
   "execution_count": 460,
   "metadata": {
    "scrolled": true
   },
   "outputs": [
    {
     "name": "stdout",
     "output_type": "stream",
     "text": [
      "| model                      |   acc |   prec_minr |   recall_minr |   f1_minr |   test%_minr |   predict%_minr |\n",
      "|----------------------------+-------+-------------+---------------+-----------+--------------+-----------------|\n",
      "| KNeighborsClassifier       |  0.70 |        0.41 |          0.28 |      0.34 |         0.26 |            0.18 |\n",
      "| DecisionTreeClassifier     |  0.73 |        0.48 |          0.42 |      0.45 |         0.26 |            0.23 |\n",
      "| LogisticRegression         |  0.74 |        0.50 |          0.12 |      0.20 |         0.26 |            0.07 |\n",
      "| GradientBoostingClassifier |  0.69 |        0.36 |          0.25 |      0.29 |         0.26 |            0.18 |\n"
     ]
    }
   ],
   "source": [
    "print_results(results_cross_val_normal)"
   ]
  },
  {
   "cell_type": "code",
   "execution_count": null,
   "metadata": {},
   "outputs": [],
   "source": []
  },
  {
   "cell_type": "markdown",
   "metadata": {},
   "source": [
    "### Accuracy anf F1 results of L5 labels\n",
    "**Accuracy of models is INCREASED for all models due to CROSS-VALIDATION**"
   ]
  },
  {
   "cell_type": "code",
   "execution_count": 465,
   "metadata": {
    "scrolled": true
   },
   "outputs": [],
   "source": [
    "#Bar chart for hold-out and cross validation accuracies\n",
    "result_cv_normal = results_cross_val_normal[['model','acc', 'f1_minr']].copy()\n",
    "result_cv_normal.set_index('model',inplace=True)\n",
    "result_cv = results_cross_val[['model','acc', 'f1_minr']].copy()\n",
    "result_cv.set_index('model',inplace=True)\n",
    "result_ho = results_hold_out[['model','acc', 'f1_minr']].copy()\n",
    "result_ho.set_index('model',inplace=True)\n",
    "\n",
    "result = result_cv.merge(result_ho, on = 'model',  suffixes=('_cv', '_ho'))\n",
    "result = result.merge(result_cv_normal, on = 'model')"
   ]
  },
  {
   "cell_type": "code",
   "execution_count": 466,
   "metadata": {},
   "outputs": [
    {
     "data": {
      "image/png": "[encoded data removed]",
      "text/plain": [
       "<Figure size 432x288 with 1 Axes>"
      ]
     },
     "metadata": {
      "needs_background": "light"
     },
     "output_type": "display_data"
    }
   ],
   "source": [
    "plot_df_bar(result[['acc','acc_cv', 'acc_ho']], xlabel='algorithms',\n",
    "            title= 'Model Accuracy Plot : CrossVal vs Upsampled_CrossVal vs Upsampled_holdout')"
   ]
  },
  {
   "cell_type": "code",
   "execution_count": 468,
   "metadata": {},
   "outputs": [
    {
     "data": {
      "image/png": "[encoded data removed]",
      "text/plain": [
       "<Figure size 432x288 with 1 Axes>"
      ]
     },
     "metadata": {
      "needs_background": "light"
     },
     "output_type": "display_data"
    }
   ],
   "source": [
    "plot_df_bar(result[['f1_minr','f1_minr_cv', 'f1_minr_ho']], xlabel='algorithms',\n",
    "            title= 'Model F1 score Plot : CrossVal vs Upsampled_CrossVal vs Upsampled_holdout')"
   ]
  },
  {
   "cell_type": "markdown",
   "metadata": {},
   "source": [
    "### INFERENCE"
   ]
  },
  {
   "cell_type": "markdown",
   "metadata": {},
   "source": [
    "#### **Strategy of using cross-validaion with ADASYN upsampling did work for Minority class \"L5\"**\n",
    "******\n",
    "**As noticed, accuracy for ---> NON-SAMPLED cross validation $\\gt $ UPSAMPLED cross validation $\\gt $ UPSAMPLED holdout**\n",
    "******\n",
    "**Whereas, F1 score for --->  UPSAMPLED cross validation $\\gt $NON-SAMPLED cross validation $\\gt $ UPSAMPLED holdout**\n",
    "******\n",
    "* This confirms the fact that accuracy of NON-sampled data is higher due to overfitting; hence its F1 score is poor\n",
    "* **Upsampling with cross validation gives best interpretation of our models as:**\n",
    "    * Minority class is synthetically balanced for fair estimation\n",
    "    * **Since this is healthcare data realted to LIFE expectancy, FALSE NEGATIVES CAN NOT BE TOLERATED. So, Recall --> in turn F1 score is a good measure.** F1 score is best in class for  cross validation with Upsampling"
   ]
  },
  {
   "cell_type": "markdown",
   "metadata": {},
   "source": [
    "---\n",
    "\n",
    "# Q2 Feature Selection\n",
    "\n",
    "<span style=\"color:blue\">  \n",
    "    \n",
    "* Two datasets : heart-train.csv and heart-test.csv are used.\n",
    "    \n",
    "* Objective: to assess the impact of feature selection on training and test datasets.\n",
    "    \n",
    "* Procedure: \n",
    "    * identify a good feature subset using the training dataset and test this subset on the test data. \n",
    "    * Detailed explaination about discrepancies between train and test performance along with maximising performance.\n",
    "</span>\n",
    "<br>\n",
    "<br>"
   ]
  },
  {
   "cell_type": "markdown",
   "metadata": {},
   "source": [
    "## Data Set Information\n",
    "<br>\n",
    "The dataset contains cases of patients with heart condition. Dat aset is similar to [Cleveland database for heart diseas](https://archive.ics.uci.edu/ml/datasets/heart+disease).\n",
    "\n",
    "* For convenience, datasets are predevided into heart-train.csv and heart-test.csv"
   ]
  },
  {
   "cell_type": "code",
   "execution_count": 209,
   "metadata": {
    "scrolled": true
   },
   "outputs": [
    {
     "name": "stdout",
     "output_type": "stream",
     "text": [
      "shape of training data: (199, 13) testing data: (100, 13)\n"
     ]
    }
   ],
   "source": [
    "## read train and test data into pandas dataframes\n",
    "df_train = pd.read_csv('heart-train.csv')\n",
    "df_test = pd.read_csv('heart-test.csv')\n",
    "print(\"shape of training data: {} testing data: {}\".format(df_train.shape,df_test.shape))"
   ]
  },
  {
   "cell_type": "code",
   "execution_count": 210,
   "metadata": {},
   "outputs": [
    {
     "name": "stdout",
     "output_type": "stream",
     "text": [
      "training data sample\n"
     ]
    },
    {
     "data": {
      "text/html": [
       "<div>\n",
       "<style scoped>\n",
       "    .dataframe tbody tr th:only-of-type {\n",
       "        vertical-align: middle;\n",
       "    }\n",
       "\n",
       "    .dataframe tbody tr th {\n",
       "        vertical-align: top;\n",
       "    }\n",
       "\n",
       "    .dataframe thead th {\n",
       "        text-align: right;\n",
       "    }\n",
       "</style>\n",
       "<table border=\"1\" class=\"dataframe\">\n",
       "  <thead>\n",
       "    <tr style=\"text-align: right;\">\n",
       "      <th></th>\n",
       "      <th>age</th>\n",
       "      <th>anaemia</th>\n",
       "      <th>creatinine_phosphokinase</th>\n",
       "      <th>diabetes</th>\n",
       "      <th>ejection_fraction</th>\n",
       "      <th>high_blood_pressure</th>\n",
       "      <th>platelets</th>\n",
       "      <th>serum_creatinine</th>\n",
       "      <th>serum_sodium</th>\n",
       "      <th>sex</th>\n",
       "      <th>smoking</th>\n",
       "      <th>time</th>\n",
       "      <th>DEATH_EVENT</th>\n",
       "    </tr>\n",
       "  </thead>\n",
       "  <tbody>\n",
       "    <tr>\n",
       "      <th>0</th>\n",
       "      <td>60.0</td>\n",
       "      <td>0</td>\n",
       "      <td>253</td>\n",
       "      <td>0</td>\n",
       "      <td>35</td>\n",
       "      <td>0</td>\n",
       "      <td>279000.00</td>\n",
       "      <td>1.70</td>\n",
       "      <td>140</td>\n",
       "      <td>1</td>\n",
       "      <td>0</td>\n",
       "      <td>250</td>\n",
       "      <td>0</td>\n",
       "    </tr>\n",
       "    <tr>\n",
       "      <th>1</th>\n",
       "      <td>40.0</td>\n",
       "      <td>1</td>\n",
       "      <td>129</td>\n",
       "      <td>0</td>\n",
       "      <td>35</td>\n",
       "      <td>0</td>\n",
       "      <td>255000.00</td>\n",
       "      <td>0.90</td>\n",
       "      <td>137</td>\n",
       "      <td>1</td>\n",
       "      <td>0</td>\n",
       "      <td>209</td>\n",
       "      <td>0</td>\n",
       "    </tr>\n",
       "    <tr>\n",
       "      <th>2</th>\n",
       "      <td>86.0</td>\n",
       "      <td>0</td>\n",
       "      <td>582</td>\n",
       "      <td>0</td>\n",
       "      <td>38</td>\n",
       "      <td>0</td>\n",
       "      <td>263358.03</td>\n",
       "      <td>1.83</td>\n",
       "      <td>134</td>\n",
       "      <td>0</td>\n",
       "      <td>0</td>\n",
       "      <td>95</td>\n",
       "      <td>1</td>\n",
       "    </tr>\n",
       "  </tbody>\n",
       "</table>\n",
       "</div>"
      ],
      "text/plain": [
       "    age  anaemia  creatinine_phosphokinase  diabetes  ejection_fraction  \\\n",
       "0  60.0        0                       253         0                 35   \n",
       "1  40.0        1                       129         0                 35   \n",
       "2  86.0        0                       582         0                 38   \n",
       "\n",
       "   high_blood_pressure  platelets  serum_creatinine  serum_sodium  sex  \\\n",
       "0                    0  279000.00              1.70           140    1   \n",
       "1                    0  255000.00              0.90           137    1   \n",
       "2                    0  263358.03              1.83           134    0   \n",
       "\n",
       "   smoking  time  DEATH_EVENT  \n",
       "0        0   250            0  \n",
       "1        0   209            0  \n",
       "2        0    95            1  "
      ]
     },
     "execution_count": 210,
     "metadata": {},
     "output_type": "execute_result"
    }
   ],
   "source": [
    "print(\"training data sample\")\n",
    "df_train.head(3)"
   ]
  },
  {
   "cell_type": "markdown",
   "metadata": {},
   "source": [
    "### Renaming attributes\n",
    "* **Attribute names are lengthy and inefficent for handling in a notebook. Follwing function renames attribute names in place**"
   ]
  },
  {
   "cell_type": "code",
   "execution_count": 211,
   "metadata": {},
   "outputs": [],
   "source": [
    "def rename_df_col(df, dict_col_rename = {'age':'age','anaemia':'anaemia','creatinine_phosphokinase':'cr_ph',\n",
    "                                       'diabetes':'diabetes','ejection_fraction':'eject_fr',\n",
    "                                       'high_blood_pressure':'high_bp','platelets':'platelets',\n",
    "                                       'serum_creatinine':'serum_cr','serum_sodium':'serum_sod',\n",
    "                                       'sex':'sex','smoking':'smoke','time':'time','DEATH_EVENT':'death'}):\n",
    "    df.rename(columns=dict_col_rename, inplace=True)"
   ]
  },
  {
   "cell_type": "code",
   "execution_count": 212,
   "metadata": {},
   "outputs": [],
   "source": [
    "rename_df_col(df_train)\n",
    "rename_df_col(df_test)"
   ]
  },
  {
   "cell_type": "markdown",
   "metadata": {},
   "source": [
    "### Attribute Information\n",
    "* **Numerical attributes**\n",
    "| age                  | cr_ph | eject_frac | platelets | serum_cr | serum_sod | time|\n",
    "|:------------------------- |:------------------ |:---------------- |:---------- |:---------- | :---------- | :---------- | \n",
    "\n",
    "\n",
    "* **Categorical attributes**\n",
    "| anaemia                  | diabetes | high_bp | sex | smoke |\n",
    "|:------------------------- |:------------------ |:---------- |:---------- |:---------- | \n",
    "    \n",
    "**Class Information**\n",
    "* death (class attribute)\n",
    "    * 1 = the patient is diseased **['D']**\n",
    "    * 0 = the patient survived **['S']**"
   ]
  },
  {
   "cell_type": "code",
   "execution_count": 213,
   "metadata": {},
   "outputs": [],
   "source": [
    "# ## define categorical and numerical columns\n",
    "# cat_col = ['anaemia','diabetes','high_bp','sex','smoke']\n",
    "# num_col = ['age','cr_ph','eject_frac','platelets','serum_cr', 'serum_sod', 'time']"
   ]
  },
  {
   "cell_type": "markdown",
   "metadata": {},
   "source": [
    "### Statistics of data"
   ]
  },
  {
   "cell_type": "code",
   "execution_count": 214,
   "metadata": {
    "scrolled": true
   },
   "outputs": [
    {
     "data": {
      "text/plain": [
       "age           42\n",
       "anaemia        2\n",
       "cr_ph        145\n",
       "diabetes       2\n",
       "eject_fr      15\n",
       "high_bp        2\n",
       "platelets    136\n",
       "serum_cr      34\n",
       "serum_sod     25\n",
       "sex            2\n",
       "smoke          2\n",
       "time         120\n",
       "death          2\n",
       "dtype: int64"
      ]
     },
     "execution_count": 214,
     "metadata": {},
     "output_type": "execute_result"
    }
   ],
   "source": [
    "df_train.nunique()"
   ]
  },
  {
   "cell_type": "markdown",
   "metadata": {},
   "source": [
    "**ATTRIBUTES**\n",
    "* **Age**:     Range of values ( 30-83 ) ; Distribution from observation of quartiles (evenly distributed) \n",
    "* **Year**:    Range of values ( 58-69 ) ; Distribution from observation of quartiles (evenly distributed)\n",
    "* **NNodes**:  Range of values ( 0-52 ) ; Distribution from observation of quartiles (Highly skewed to right; 75% data lies within ~2% of range)\n",
    "\n",
    "**TARGET**\n",
    "* **death**:   Binary variable (0,1). When treated as a numeric, we obtain mean < 0.5 : **So, label '0' is likely to be Majority class**"
   ]
  },
  {
   "cell_type": "code",
   "execution_count": 215,
   "metadata": {
    "scrolled": true
   },
   "outputs": [
    {
     "data": {
      "text/html": [
       "<div>\n",
       "<style scoped>\n",
       "    .dataframe tbody tr th:only-of-type {\n",
       "        vertical-align: middle;\n",
       "    }\n",
       "\n",
       "    .dataframe tbody tr th {\n",
       "        vertical-align: top;\n",
       "    }\n",
       "\n",
       "    .dataframe thead th {\n",
       "        text-align: right;\n",
       "    }\n",
       "</style>\n",
       "<table border=\"1\" class=\"dataframe\">\n",
       "  <thead>\n",
       "    <tr style=\"text-align: right;\">\n",
       "      <th></th>\n",
       "      <th>age</th>\n",
       "      <th>anaemia</th>\n",
       "      <th>cr_ph</th>\n",
       "      <th>diabetes</th>\n",
       "      <th>eject_fr</th>\n",
       "      <th>high_bp</th>\n",
       "      <th>platelets</th>\n",
       "      <th>serum_cr</th>\n",
       "      <th>serum_sod</th>\n",
       "      <th>sex</th>\n",
       "      <th>smoke</th>\n",
       "      <th>time</th>\n",
       "      <th>death</th>\n",
       "    </tr>\n",
       "  </thead>\n",
       "  <tbody>\n",
       "    <tr>\n",
       "      <th>count</th>\n",
       "      <td>199.000000</td>\n",
       "      <td>199.000000</td>\n",
       "      <td>199.000000</td>\n",
       "      <td>199.000000</td>\n",
       "      <td>199.000000</td>\n",
       "      <td>199.000000</td>\n",
       "      <td>199.000000</td>\n",
       "      <td>199.000000</td>\n",
       "      <td>199.000000</td>\n",
       "      <td>199.000000</td>\n",
       "      <td>199.000000</td>\n",
       "      <td>199.000000</td>\n",
       "      <td>199.000000</td>\n",
       "    </tr>\n",
       "    <tr>\n",
       "      <th>mean</th>\n",
       "      <td>60.822447</td>\n",
       "      <td>0.417085</td>\n",
       "      <td>634.834171</td>\n",
       "      <td>0.442211</td>\n",
       "      <td>39.050251</td>\n",
       "      <td>0.336683</td>\n",
       "      <td>263207.339698</td>\n",
       "      <td>1.403518</td>\n",
       "      <td>136.693467</td>\n",
       "      <td>0.643216</td>\n",
       "      <td>0.306533</td>\n",
       "      <td>128.216080</td>\n",
       "      <td>0.321608</td>\n",
       "    </tr>\n",
       "    <tr>\n",
       "      <th>std</th>\n",
       "      <td>12.234419</td>\n",
       "      <td>0.494321</td>\n",
       "      <td>1095.704449</td>\n",
       "      <td>0.497902</td>\n",
       "      <td>12.255178</td>\n",
       "      <td>0.473767</td>\n",
       "      <td>97202.912278</td>\n",
       "      <td>0.972159</td>\n",
       "      <td>4.583844</td>\n",
       "      <td>0.480258</td>\n",
       "      <td>0.462216</td>\n",
       "      <td>78.314302</td>\n",
       "      <td>0.468272</td>\n",
       "    </tr>\n",
       "    <tr>\n",
       "      <th>min</th>\n",
       "      <td>40.000000</td>\n",
       "      <td>0.000000</td>\n",
       "      <td>30.000000</td>\n",
       "      <td>0.000000</td>\n",
       "      <td>15.000000</td>\n",
       "      <td>0.000000</td>\n",
       "      <td>25100.000000</td>\n",
       "      <td>0.600000</td>\n",
       "      <td>113.000000</td>\n",
       "      <td>0.000000</td>\n",
       "      <td>0.000000</td>\n",
       "      <td>4.000000</td>\n",
       "      <td>0.000000</td>\n",
       "    </tr>\n",
       "    <tr>\n",
       "      <th>25%</th>\n",
       "      <td>50.000000</td>\n",
       "      <td>0.000000</td>\n",
       "      <td>121.500000</td>\n",
       "      <td>0.000000</td>\n",
       "      <td>30.000000</td>\n",
       "      <td>0.000000</td>\n",
       "      <td>216500.000000</td>\n",
       "      <td>0.950000</td>\n",
       "      <td>134.000000</td>\n",
       "      <td>0.000000</td>\n",
       "      <td>0.000000</td>\n",
       "      <td>73.000000</td>\n",
       "      <td>0.000000</td>\n",
       "    </tr>\n",
       "    <tr>\n",
       "      <th>50%</th>\n",
       "      <td>60.000000</td>\n",
       "      <td>0.000000</td>\n",
       "      <td>292.000000</td>\n",
       "      <td>0.000000</td>\n",
       "      <td>38.000000</td>\n",
       "      <td>0.000000</td>\n",
       "      <td>263000.000000</td>\n",
       "      <td>1.100000</td>\n",
       "      <td>137.000000</td>\n",
       "      <td>1.000000</td>\n",
       "      <td>0.000000</td>\n",
       "      <td>109.000000</td>\n",
       "      <td>0.000000</td>\n",
       "    </tr>\n",
       "    <tr>\n",
       "      <th>75%</th>\n",
       "      <td>70.000000</td>\n",
       "      <td>1.000000</td>\n",
       "      <td>582.000000</td>\n",
       "      <td>1.000000</td>\n",
       "      <td>45.000000</td>\n",
       "      <td>1.000000</td>\n",
       "      <td>302500.000000</td>\n",
       "      <td>1.500000</td>\n",
       "      <td>140.000000</td>\n",
       "      <td>1.000000</td>\n",
       "      <td>1.000000</td>\n",
       "      <td>196.500000</td>\n",
       "      <td>1.000000</td>\n",
       "    </tr>\n",
       "    <tr>\n",
       "      <th>max</th>\n",
       "      <td>95.000000</td>\n",
       "      <td>1.000000</td>\n",
       "      <td>7861.000000</td>\n",
       "      <td>1.000000</td>\n",
       "      <td>80.000000</td>\n",
       "      <td>1.000000</td>\n",
       "      <td>850000.000000</td>\n",
       "      <td>9.000000</td>\n",
       "      <td>148.000000</td>\n",
       "      <td>1.000000</td>\n",
       "      <td>1.000000</td>\n",
       "      <td>285.000000</td>\n",
       "      <td>1.000000</td>\n",
       "    </tr>\n",
       "  </tbody>\n",
       "</table>\n",
       "</div>"
      ],
      "text/plain": [
       "              age     anaemia        cr_ph    diabetes    eject_fr  \\\n",
       "count  199.000000  199.000000   199.000000  199.000000  199.000000   \n",
       "mean    60.822447    0.417085   634.834171    0.442211   39.050251   \n",
       "std     12.234419    0.494321  1095.704449    0.497902   12.255178   \n",
       "min     40.000000    0.000000    30.000000    0.000000   15.000000   \n",
       "25%     50.000000    0.000000   121.500000    0.000000   30.000000   \n",
       "50%     60.000000    0.000000   292.000000    0.000000   38.000000   \n",
       "75%     70.000000    1.000000   582.000000    1.000000   45.000000   \n",
       "max     95.000000    1.000000  7861.000000    1.000000   80.000000   \n",
       "\n",
       "          high_bp      platelets    serum_cr   serum_sod         sex  \\\n",
       "count  199.000000     199.000000  199.000000  199.000000  199.000000   \n",
       "mean     0.336683  263207.339698    1.403518  136.693467    0.643216   \n",
       "std      0.473767   97202.912278    0.972159    4.583844    0.480258   \n",
       "min      0.000000   25100.000000    0.600000  113.000000    0.000000   \n",
       "25%      0.000000  216500.000000    0.950000  134.000000    0.000000   \n",
       "50%      0.000000  263000.000000    1.100000  137.000000    1.000000   \n",
       "75%      1.000000  302500.000000    1.500000  140.000000    1.000000   \n",
       "max      1.000000  850000.000000    9.000000  148.000000    1.000000   \n",
       "\n",
       "            smoke        time       death  \n",
       "count  199.000000  199.000000  199.000000  \n",
       "mean     0.306533  128.216080    0.321608  \n",
       "std      0.462216   78.314302    0.468272  \n",
       "min      0.000000    4.000000    0.000000  \n",
       "25%      0.000000   73.000000    0.000000  \n",
       "50%      0.000000  109.000000    0.000000  \n",
       "75%      1.000000  196.500000    1.000000  \n",
       "max      1.000000  285.000000    1.000000  "
      ]
     },
     "execution_count": 215,
     "metadata": {},
     "output_type": "execute_result"
    }
   ],
   "source": [
    "df_train.describe()"
   ]
  },
  {
   "cell_type": "markdown",
   "metadata": {},
   "source": [
    "### Saggregate Input and Target features  "
   ]
  },
  {
   "cell_type": "code",
   "execution_count": 216,
   "metadata": {},
   "outputs": [],
   "source": [
    "# seperate training dataframe into X_train and target to y_train.\n",
    "X_train = df_train.iloc[:,:-1]\n",
    "y_train = df_train.iloc[:,-1]\n",
    "\n",
    "# seperate testing dataframe into  X_test and target to y_test.\n",
    "X_test = df_test.iloc[:,:-1]\n",
    "y_test = df_test.iloc[:,-1]"
   ]
  },
  {
   "cell_type": "code",
   "execution_count": 217,
   "metadata": {},
   "outputs": [
    {
     "data": {
      "text/html": [
       "<div>\n",
       "<style scoped>\n",
       "    .dataframe tbody tr th:only-of-type {\n",
       "        vertical-align: middle;\n",
       "    }\n",
       "\n",
       "    .dataframe tbody tr th {\n",
       "        vertical-align: top;\n",
       "    }\n",
       "\n",
       "    .dataframe thead th {\n",
       "        text-align: right;\n",
       "    }\n",
       "</style>\n",
       "<table border=\"1\" class=\"dataframe\">\n",
       "  <thead>\n",
       "    <tr style=\"text-align: right;\">\n",
       "      <th></th>\n",
       "      <th>age</th>\n",
       "      <th>anaemia</th>\n",
       "      <th>cr_ph</th>\n",
       "      <th>diabetes</th>\n",
       "      <th>eject_fr</th>\n",
       "      <th>high_bp</th>\n",
       "      <th>platelets</th>\n",
       "      <th>serum_cr</th>\n",
       "      <th>serum_sod</th>\n",
       "      <th>sex</th>\n",
       "      <th>smoke</th>\n",
       "      <th>time</th>\n",
       "    </tr>\n",
       "  </thead>\n",
       "  <tbody>\n",
       "    <tr>\n",
       "      <th>0</th>\n",
       "      <td>60.0</td>\n",
       "      <td>0</td>\n",
       "      <td>253</td>\n",
       "      <td>0</td>\n",
       "      <td>35</td>\n",
       "      <td>0</td>\n",
       "      <td>279000.00</td>\n",
       "      <td>1.70</td>\n",
       "      <td>140</td>\n",
       "      <td>1</td>\n",
       "      <td>0</td>\n",
       "      <td>250</td>\n",
       "    </tr>\n",
       "    <tr>\n",
       "      <th>1</th>\n",
       "      <td>40.0</td>\n",
       "      <td>1</td>\n",
       "      <td>129</td>\n",
       "      <td>0</td>\n",
       "      <td>35</td>\n",
       "      <td>0</td>\n",
       "      <td>255000.00</td>\n",
       "      <td>0.90</td>\n",
       "      <td>137</td>\n",
       "      <td>1</td>\n",
       "      <td>0</td>\n",
       "      <td>209</td>\n",
       "    </tr>\n",
       "    <tr>\n",
       "      <th>2</th>\n",
       "      <td>86.0</td>\n",
       "      <td>0</td>\n",
       "      <td>582</td>\n",
       "      <td>0</td>\n",
       "      <td>38</td>\n",
       "      <td>0</td>\n",
       "      <td>263358.03</td>\n",
       "      <td>1.83</td>\n",
       "      <td>134</td>\n",
       "      <td>0</td>\n",
       "      <td>0</td>\n",
       "      <td>95</td>\n",
       "    </tr>\n",
       "  </tbody>\n",
       "</table>\n",
       "</div>"
      ],
      "text/plain": [
       "    age  anaemia  cr_ph  diabetes  eject_fr  high_bp  platelets  serum_cr  \\\n",
       "0  60.0        0    253         0        35        0  279000.00      1.70   \n",
       "1  40.0        1    129         0        35        0  255000.00      0.90   \n",
       "2  86.0        0    582         0        38        0  263358.03      1.83   \n",
       "\n",
       "   serum_sod  sex  smoke  time  \n",
       "0        140    1      0   250  \n",
       "1        137    1      0   209  \n",
       "2        134    0      0    95  "
      ]
     },
     "execution_count": 217,
     "metadata": {},
     "output_type": "execute_result"
    }
   ],
   "source": [
    "X_train.head(3)"
   ]
  },
  {
   "cell_type": "markdown",
   "metadata": {},
   "source": [
    "### Check for class imbalance\n",
    "* We observe that, **data is imbalanced**\n",
    "* But, imbalance is nearly equal ($ \\approx $ 0.32% of minority class) in training and testing data"
   ]
  },
  {
   "cell_type": "code",
   "execution_count": 218,
   "metadata": {
    "scrolled": true
   },
   "outputs": [
    {
     "name": "stdout",
     "output_type": "stream",
     "text": [
      "Ratio of Minority class '1' in training data: 0.322\n",
      "Ratio of Minority class '1' in testing data: 0.320\n"
     ]
    }
   ],
   "source": [
    "print(\"Ratio of Minority class '1' in training data: %0.3f\" % (Counter(y_train)[1]/len(y_train)))\n",
    "print(\"Ratio of Minority class '1' in testing data: %0.3f\" % (Counter(y_test)[1]/len(y_test)))"
   ]
  },
  {
   "cell_type": "markdown",
   "metadata": {},
   "source": [
    "<br>\n",
    "<br>"
   ]
  },
  {
   "cell_type": "markdown",
   "metadata": {},
   "source": [
    "## Baseline model : No feature selection"
   ]
  },
  {
   "cell_type": "markdown",
   "metadata": {},
   "source": [
    "### Gradient Boosting algorithm\n",
    "\n",
    "Gradient Boosting works on principal of \"Ensemble of Decision Tree\". **Gradient Boosting Classifier implementeation in scikit-learn supports both binary and multi-class classification.**\n",
    "* GB builds an additive model of weak decision trees in a forward stage-wise fashion\n",
    "* The weak decison tree is successively Optimized using arbitrary differentiable loss functions.\n",
    "* In each stage, n_classes_ regression trees are fit on the negative gradient of the binomial or multinomial deviance loss function. **But, addressed classification problem is Binary, hence it has induced only a single regression tree**\n",
    "\n",
    "we can convert GB algorithm to stocastic GB using **'subsample'** parameter \"f\". it is fraction of samples choosen randomly in each iteration and used for fitting the individual base learners. \n",
    "* Smaller values of f introduce randomness into the algorithm and help prevent overfitting, acting as a kind of regularization. \n",
    "* Ideal range found by Friedman, who designed Gradient boosting is $ 0.5 \\leq f \\leq 0.8$ [link](https://en.wikipedia.org/wiki/Gradient_boosting#Stochastic_gradient_boosting)\n",
    "* But, it leads to a reduction of variance and an increase in bias for smaller sample sizes; hence avoided in following implementation."
   ]
  },
  {
   "cell_type": "markdown",
   "metadata": {},
   "source": [
    "#### Define dataframe to hold results"
   ]
  },
  {
   "cell_type": "code",
   "execution_count": 219,
   "metadata": {},
   "outputs": [],
   "source": [
    "df_result = pd.DataFrame(columns = ['Test','Train'], index=['baseline', 'sbfs', 'rfecv'])"
   ]
  },
  {
   "cell_type": "markdown",
   "metadata": {},
   "source": [
    "#### Gradient Boosting Classifier"
   ]
  },
  {
   "cell_type": "code",
   "execution_count": 220,
   "metadata": {},
   "outputs": [],
   "source": [
    "\"\"\" \n",
    "#Gradient Boosting Classifier(gb_clf) is trained with :\n",
    "# loss function = deviance loss function to be optimized. ‘deviance’ refers to logistic regression for classification\n",
    "which is suitable for this problem.\n",
    "# random_state=0 maintained for reproducibility of results across other gb_clf models defined in notebook\n",
    "\"\"\"\n",
    "gb_clf_base = GradientBoostingClassifier(loss = 'deviance', random_state=seed)"
   ]
  },
  {
   "cell_type": "markdown",
   "metadata": {},
   "source": [
    "#### Hold out accuracy with test data"
   ]
  },
  {
   "cell_type": "code",
   "execution_count": 221,
   "metadata": {},
   "outputs": [],
   "source": [
    "# Us hold out technique\n",
    "# gb_clf_base model is fit with train data \n",
    "gb_clf_base.fit(X_train,y_train)\n",
    "\n",
    "#Test gb classifier test data and store value in y_pred\n",
    "y_pred = gb_clf_base.predict(X_test)\n",
    "\n",
    "#find hold out accuracy by comparing correct y_pred against actual y_test\n",
    "acc_holdout = accuracy_score(y_test,y_pred)"
   ]
  },
  {
   "cell_type": "markdown",
   "metadata": {},
   "source": [
    "#### Cross validation accuracy with train data"
   ]
  },
  {
   "cell_type": "code",
   "execution_count": 222,
   "metadata": {},
   "outputs": [],
   "source": [
    "# Use Cross Validation to evaluate model gb_clf_base using train data : which is larger sample\n",
    "scores = cross_val_score(gb_clf_base, X_train, y_train, cv=cv_folds)\n",
    "\n",
    "#find average accuracy by taking numeric mean of all cross validation scores.\n",
    "acc_cross_val = scores.mean()"
   ]
  },
  {
   "cell_type": "code",
   "execution_count": 223,
   "metadata": {
    "scrolled": true
   },
   "outputs": [
    {
     "data": {
      "image/png": "[encoded data removed]",
      "text/plain": [
       "<Figure size 432x288 with 1 Axes>"
      ]
     },
     "metadata": {
      "needs_background": "light"
     },
     "output_type": "display_data"
    }
   ],
   "source": [
    "#Bar chart for hold-out and cross validation accuracies\n",
    "df_result.loc['baseline'] = [acc_holdout, acc_cross_val]\n",
    "plot_df_bar(df_result, title= 'Model Accuracy Plot : Test[cross val] Vs Train [Holdout]')\n"
   ]
  },
  {
   "cell_type": "markdown",
   "metadata": {},
   "source": [
    "## Feature Selection\n",
    "\n",
    "In Feature selection we need to find the best subset of all available features, which contains the smallest number of features which contribute most to the accuracy. Discard the remaining, unimportant features.\n",
    "\n",
    "**Feature Selection Strategies**\n",
    "* **Filter**: During Pre-processing step, filters evaluates the importance of features based only on their inherent characteristics, without incorporating any learning algorithm which is applied subsequently.\n",
    "    * Evaluation is based on multiple statistical parameters like Gini Index, Chi-square index etc. \n",
    "    * They are extensively used on high dimensional data where wrapper methods have a prohibitive computational cost.\n",
    "    * Unlike wrapper methods they are not subject to overfitting. \n",
    "* **Embedded methods**: This approach consists in algorithms which simultaneously perform model fitting andfeature selection. This is typically implemented by using a sparsity regularizer orconstraint which makes the weight of some features become zero. eg. Sparse Multinomial Logistic Regression, Automatic Relevance Determination Regression, LASSO, Ridge regression.\n",
    "* **Wrapper**\n",
    "    * **Sequential feature selection**: The classifier is “wrapped” in the feature selection mechanism. Feature subsets are evaluated directly based on their performance when used with that specific classifier. A key aspect of wrappers is the search strategy which generates the candidate feature subsets for evaluation.\n",
    "        * **Sequential Forward Selection (SFS)**: This method starts with empty feature subset. In each step, algorithm adds  most informative feature to subset. This procedure repeats till model performance does not improve any further.\n",
    "        * **Sequential Backward Eilimination (SBE)**: This method starts with whole feature space as subset. In each step, algorithm removes least informative feature. This procedure repeats till model performance does not improve any further. Hence, this is *feature selection by EXCLUSION*.  \n",
    "        * **Floating Selection (FS))**: Floating selection is variant used with both above methods.\n",
    "            * In case of SFS; once new additive feature included into subset; subset is reanalysed to find if *Exclusion of any present feature improves model performance*. If so, that feature is removed. \n",
    "            * In case of SBE; once another feature is excluded from subset; set of previousely excluded eatures is reanalysed to find if *Inclusion of any previousely eliminated feature improves model performance*. If so, that feature is added. \n",
    "    * **Recurssive feature eliminator with cross validation** [[Ref](https://scikit-learn.org/stable/modules/generated/sklearn.feature_selection.RFECV.html#sklearn.feature_selection.RFECV)]: scikit-learn implements RFECV : Feature ranking with recursive feature elimination and cross-validated selection of the best number of features. This is also a greedy - aproach algorithm which works on similar algorithm like *Sequential Backward Eilimination (SBE)*.     "
   ]
  },
  {
   "cell_type": "markdown",
   "metadata": {},
   "source": [
    "### Choice of Feature selection method:\n",
    "#### Filter method : Not choosen \n",
    "Filters tend to be faster and less computationally expensive than wrapper methods. But it has following limitations:\n",
    "* **Model dependancy is ignored** : Some models better aproximate certein data. But, filter ignores this model bias.\n",
    "* **Training Data size dependancy** : Training data set in question is small; hence it would not be enough to model the statistical correlation between features. And Filter methods may provide worse results than wrapper methods. \n",
    "* **Feature Correlation are ignored** Sometimes, soe of top-k features can be strongly correalted. So, unnecessarily, excess features are selected without adding significant information gain. It may also happen that a lower importance feature boosts performance in presence of some other feature in sample space.\n",
    "\n",
    "#### Recurssive feature eliminator with cross validation : Choosen for experiment\n",
    "* Implement similar algorithm alike backward selection; BUT **AUTOMATES ADDITIONAL STEP TO LOCATE AND RETRAIN INNER MODEL WITH OPTIMAL k-features**\n",
    "\n",
    "#### Sequential Backward FLOATING Eilimination selection: Choosen for experiement\n",
    "* It adds a recosideration stage to INCLUDE PREVIOUSELY REMOVED samples which may improve performance with PRESENT SAMPLE-SPACE. THIS METHOD INADVENTLY CONSIDERS POSTERIORI \"Support\" of features for each other. This is neglected in FILTER TYPES OF SELECTIONS."
   ]
  },
  {
   "cell_type": "markdown",
   "metadata": {},
   "source": [
    "## Recurssive feature eliminator with cross validation \n",
    "\n",
    "* Recursive feature elimination with cross validation (RFECV) selects features by recursively considering smaller and smaller sets of features. First, the estimator is trained on the initial set of features and the importance of each feature is obtained either through a coef_ attribute or through a feature_importances_ attribute. Then, the least important features are pruned from current set of features. That procedure is recursively repeated on the pruned set until the desired number of features to select is eventually reached.\n"
   ]
  },
  {
   "cell_type": "code",
   "execution_count": 224,
   "metadata": {},
   "outputs": [],
   "source": [
    "## Define instance of gradient boost classifier\n",
    "gb_clf_RFECV = GradientBoostingClassifier(loss = 'deviance', random_state=seed)"
   ]
  },
  {
   "cell_type": "code",
   "execution_count": 225,
   "metadata": {},
   "outputs": [
    {
     "name": "stdout",
     "output_type": "stream",
     "text": [
      "Wall time: 2.89 s\n"
     ]
    },
    {
     "data": {
      "text/plain": [
       "RFECV(cv=StratifiedKFold(n_splits=10, random_state=None, shuffle=False),\n",
       "      estimator=GradientBoostingClassifier(random_state=0),\n",
       "      min_features_to_select=2, n_jobs=-1, scoring='accuracy')"
      ]
     },
     "execution_count": 225,
     "metadata": {},
     "output_type": "execute_result"
    }
   ],
   "source": [
    "%%time\n",
    "## Implement Sequential Backward Floating Selection algorithm\n",
    "##   min_features_to_select : Specify minimum N(features) to select\n",
    "##   step : features to eliminate in each step\n",
    "##   scoring : Performance evaluation criteria uesd is accuracy\n",
    "##   cv : N(stratified cross-validation folds) stratification is important as data is imbalanced\n",
    "##   n_jobs : Set to -1 to utilize all our available CPU cores for cross-validation.\n",
    "\n",
    "k_sel = 2\n",
    "\n",
    "rfecv = RFECV(estimator=gb_clf_RFECV,\n",
    "              step=1,\n",
    "              min_features_to_select=k_sel,\n",
    "              n_jobs=-1,\n",
    "              cv=StratifiedKFold(cv_folds),\n",
    "              scoring='accuracy');\n",
    "\n",
    "rfecv.fit(X_train, y_train);"
   ]
  },
  {
   "cell_type": "code",
   "execution_count": 226,
   "metadata": {
    "scrolled": false
   },
   "outputs": [
    {
     "name": "stdout",
     "output_type": "stream",
     "text": [
      "Optimal number of features : 8\n"
     ]
    },
    {
     "data": {
      "image/png": "[encoded data removed]",
      "text/plain": [
       "<Figure size 432x288 with 1 Axes>"
      ]
     },
     "metadata": {
      "needs_background": "light"
     },
     "output_type": "display_data"
    }
   ],
   "source": [
    "print(\"Optimal number of features : %d\" % rfecv.n_features_)\n",
    "plt.figure()\n",
    "plt.xlabel(\"Number of features selected\")\n",
    "plt.ylabel(\"Cross validation score (nb of correct classifications)\")\n",
    "plt.plot(range(1, len(rfecv.grid_scores_) + 1), rfecv.grid_scores_)\n",
    "plt.show()"
   ]
  },
  {
   "cell_type": "code",
   "execution_count": 227,
   "metadata": {
    "scrolled": false
   },
   "outputs": [
    {
     "name": "stdout",
     "output_type": "stream",
     "text": [
      "Rank for each feature's index [1 3 1 4 1 2 1 1 1 1 5 1]\n",
      "Mask for selecting top_k features [ True False  True False  True False  True  True  True  True False  True]\n"
     ]
    }
   ],
   "source": [
    "print(\"Rank for each feature's index\", rfecv.ranking_)\n",
    "print(\"Mask for selecting top_k features\", rfecv.support_)"
   ]
  },
  {
   "cell_type": "markdown",
   "metadata": {},
   "source": [
    "#### Performance with test data\n",
    "\n",
    "* **predict()** function in RFECV automatically transforms test input to selected n_features **[Ref](https://scikit-learn.org/stable/modules/generated/sklearn.feature_selection.RFECV.html#sklearn.feature_selection.RFECV.predict)**\n",
    "    * Alternatively, we can manually mask test input using model attribute *support_*\n",
    "* Testing accuracy is improved, but cross validation training accuracy is not changed significantly"
   ]
  },
  {
   "cell_type": "code",
   "execution_count": 228,
   "metadata": {},
   "outputs": [],
   "source": [
    "## Cross validation accuracy for training data with selected features\n",
    "acc_cross_val_rfecv = rfecv.grid_scores_[rfecv.n_features_ - k_sel]\n",
    "\n",
    "# Hold-out accuracy.\n",
    "#Predicting the y_pred_rfecv with selected feature test set.\n",
    "y_pred_rfecv = rfecv.predict(X_test)\n",
    "\n",
    "acc_holdout_rfecv = accuracy_score(y_pred_rfecv, y_test)"
   ]
  },
  {
   "cell_type": "code",
   "execution_count": 229,
   "metadata": {},
   "outputs": [
    {
     "data": {
      "image/png": "[encoded data removed]",
      "text/plain": [
       "<Figure size 432x288 with 1 Axes>"
      ]
     },
     "metadata": {
      "needs_background": "light"
     },
     "output_type": "display_data"
    }
   ],
   "source": [
    "#Bar chart for hold-out and cross validation accuracies\n",
    "df_result.loc['rfecv'] = [acc_holdout_rfecv,acc_cross_val_rfecv]\n",
    "\n",
    "plot_df_bar(df_result, xlabel='k-Best feautures='+ str(rfecv.n_features_),\n",
    "            title= 'Model Accuracy Plot : Test[cross val] Vs Train [Holdout]')"
   ]
  },
  {
   "cell_type": "markdown",
   "metadata": {},
   "source": [
    "## Sequential feature selection \n",
    "\n",
    "Sequential feature selection algorithms are a family of greedy search algorithms that are used to reduce an initial d-dimensional feature space to a k-dimensional feature subspace where k < d. It obtains following objectives [[Ref](http://rasbt.github.io/mlxtend/user_guide/feature_selection/SequentialFeatureSelector/)]:\n",
    "* Improve the computational efficiency\n",
    "* Reduce the generalization error of the model by removing irrelevant features[ or noise]\n",
    "\n",
    "### Wrapper implementation for Sequential Backward Floating Eilimination (SBFE) \n",
    "* This algorithm in mlextend library is used for feature selection [[Ref](https://towardsdatascience.com/overview-of-feature-selection-methods-a2d115c7a8f7)].\n",
    "* Wrapper compare all possible feature combinations and pick the set of feature combinations that produces the best outcome for a given machine learning algorithm. \n",
    " 1. Backward Feature Elimination: In the first phase, the classifier's performance is evaluated in accordance with each feature. Of all the features, the feature that performs the worst is eliminated.\n",
    " 2. Floating inclusion: All previously removed features are reconsidered and a feature which improves model performance when included back in feature subset is included.\n",
    " 3. 1 and 2 loop untill specified number of features defined apriori are included in samplespace.\n"
   ]
  },
  {
   "cell_type": "code",
   "execution_count": 230,
   "metadata": {},
   "outputs": [],
   "source": [
    "## Define instance of fradient boost classifier\n",
    "gb_clf_SBFS = GradientBoostingClassifier(loss = 'deviance', random_state=seed)"
   ]
  },
  {
   "cell_type": "code",
   "execution_count": 231,
   "metadata": {},
   "outputs": [],
   "source": [
    "## Implement Sequential Backward Floating Selection algorithm\n",
    "##   k_features : Specifys the N(features) to select\n",
    "##   forward : Set to False, to performs step backward.\n",
    "##   floating= Set to True, to perform floating inclusion \n",
    "##   verbose : logs the progress of the feature selector.\n",
    "##   scoring : Performance evaluation criteria uesd is accuracy\n",
    "##   cv : N(cross-validation folds)\n",
    "##   n_jobs : Set to -1 to utilize all our available CPU cores for cross-validation.\n",
    "\n",
    "sbfs = SFS(gb_clf_SBFS, \n",
    "           k_features=1, \n",
    "           forward=False, \n",
    "           floating=True, \n",
    "           scoring='accuracy',\n",
    "           cv=cv_folds,\n",
    "           n_jobs=-1)\n",
    "sbfs = sbfs.fit(X_train, y_train, custom_feature_names=X_train.columns)"
   ]
  },
  {
   "cell_type": "code",
   "execution_count": 232,
   "metadata": {
    "scrolled": true
   },
   "outputs": [
    {
     "data": {
      "image/png": "[encoded data removed]",
      "text/plain": [
       "<Figure size 576x432 with 1 Axes>"
      ]
     },
     "metadata": {
      "needs_background": "light"
     },
     "output_type": "display_data"
    }
   ],
   "source": [
    "#Plot sequential backward floating feature selection to find the highest accuracy feature.\n",
    "# attribute get_metric_dict() Returns a dictionary of feature_idx, cv_scores, avg_score, ci_bound, std_dev, std_err.\n",
    "\n",
    "fig1 = plot_sfs(sbfs.get_metric_dict(), \n",
    "                ylabel='Accuracy',\n",
    "                kind='std_dev', figsize=(8,6))\n",
    "\n",
    "plt.ylim([0.5, 1])\n",
    "plt.title('Sequential Backward floating Selection : Bound with stddev')\n",
    "plt.grid()\n",
    "plt.show()"
   ]
  },
  {
   "cell_type": "markdown",
   "metadata": {},
   "source": [
    "### Locate  indexes for k features\n",
    "* We can roughly see that at samplespace size 10, maximum accuracy is obtained\n",
    "* Features contributing to this model setting are located using code below"
   ]
  },
  {
   "cell_type": "code",
   "execution_count": 233,
   "metadata": {},
   "outputs": [],
   "source": [
    "## Define instance of fradient boost classifier\n",
    "gb_clf_SBFS = GradientBoostingClassifier(loss = 'deviance', random_state=seed)"
   ]
  },
  {
   "cell_type": "code",
   "execution_count": 234,
   "metadata": {
    "scrolled": true
   },
   "outputs": [
    {
     "name": "stdout",
     "output_type": "stream",
     "text": [
      "Wall time: 3.03 s\n"
     ]
    }
   ],
   "source": [
    "%%time\n",
    "## attribute get_metric_dict() Returns a dictionary of feature_idx, cv_scores, avg_score, ci_bound, std_dev, std_err.\n",
    "df_res = pd.DataFrame(pd.DataFrame(sbfs.get_metric_dict()).loc['avg_score'].astype('float64'))\n",
    "## locate index of id where maximum average accuracy is obtained\n",
    "k_features = df_res.idxmax()\n",
    "k_num = int(k_features[0])\n",
    "\n",
    "## Locate highest 'k' features:\n",
    "\n",
    "#k_features = k_num and retrain sequential backward flaoting selector.\n",
    "sbfs = SFS(gb_clf_SBFS, \n",
    "           k_features=k_num, \n",
    "           forward=False, \n",
    "           floating=True, \n",
    "           scoring='accuracy',\n",
    "           cv=cv_folds,\n",
    "           n_jobs=-1)\n",
    "sbfs = sbfs.fit(X_train, y_train, custom_feature_names=X_train.columns)"
   ]
  },
  {
   "cell_type": "code",
   "execution_count": 235,
   "metadata": {},
   "outputs": [
    {
     "data": {
      "image/png": "[encoded data removed]",
      "text/plain": [
       "<Figure size 576x432 with 1 Axes>"
      ]
     },
     "metadata": {
      "needs_background": "light"
     },
     "output_type": "display_data"
    },
    {
     "name": "stdout",
     "output_type": "stream",
     "text": [
      "('age', 'anaemia', 'diabetes', 'eject_fr', 'platelets', 'serum_cr', 'serum_sod', 'sex', 'smoke', 'time')\n"
     ]
    }
   ],
   "source": [
    "#Plot sequential backward floating feature selection to find the highest accuracy feature.\n",
    "# attribute get_metric_dict() Returns a dictionary of feature_idx, cv_scores, avg_score, ci_bound, std_dev, std_err.\n",
    "\n",
    "fig1 = plot_sfs(sbfs.get_metric_dict(), \n",
    "                ylabel='Accuracy',\n",
    "                kind='std_dev', figsize=(8,6))\n",
    "\n",
    "plt.ylim([0.5, 1])\n",
    "plt.title('Sequential Backward floating Selection : Bound with stddev')\n",
    "plt.grid()\n",
    "plt.show()\n",
    "print(sbfs.k_feature_names_)"
   ]
  },
  {
   "cell_type": "markdown",
   "metadata": {},
   "source": [
    "\n",
    "### Retrain classifier with feature subset"
   ]
  },
  {
   "cell_type": "code",
   "execution_count": 238,
   "metadata": {
    "scrolled": true
   },
   "outputs": [],
   "source": [
    "# CV accuracy is already found in previous stage\n",
    "acc_cross_val_sbfs =  sbfs.k_score_\n",
    "\n",
    "#select k best features from train and test set for training the classifier. \n",
    "X_train_sbfs = X_train[list(sbfs.k_feature_names_)]\n",
    "X_test_sbfs = X_test[list(sbfs.k_feature_names_)]\n",
    "\n",
    "#Fitting gbc classifier on X & y Features.\n",
    "gb_clf_SBFS.fit(X_train_sbfs,y_train)\n",
    "\n",
    "#Predicting the y_pred_sbfs with selected feature test set.\n",
    "y_pred_sbfs = gb_clf_SBFS.predict(X_test_sbfs)\n",
    "\n",
    "\n",
    "# Hold-out accuracy.\n",
    "acc_holdout_sbfs = accuracy_score(y_pred_sbfs,y_test)"
   ]
  },
  {
   "cell_type": "code",
   "execution_count": 239,
   "metadata": {
    "scrolled": false
   },
   "outputs": [
    {
     "data": {
      "image/png": "[encoded data removed]",
      "text/plain": [
       "<Figure size 432x288 with 1 Axes>"
      ]
     },
     "metadata": {
      "needs_background": "light"
     },
     "output_type": "display_data"
    }
   ],
   "source": [
    "#Bar chart for hold-out and cross validation accuracies\n",
    "df_result.loc['sbfs'] = [acc_holdout_sbfs,acc_cross_val_sbfs]\n",
    "\n",
    "plot_df_bar(df_result, xlabel='k-Best feautures=',\n",
    "            title= 'Model Accuracy Plot : Test[cross val] Vs Train [Holdout]')"
   ]
  },
  {
   "cell_type": "markdown",
   "metadata": {},
   "source": [
    "# Inference\n",
    "\n",
    "**FEATURE SELECTION METHOD**\n",
    "* Based on the resultant graph,  resultant accuracies for training data using cross validation are consistent across all feature sets\n",
    "* Accuracy of the classifier is most improved with Wrapper-based methods. \n",
    "\n",
    "**The discrepancies between performance on the training and test data** is due to two facts:\n",
    "1. Training data is hardly twice the size of testing data. *This is reason behind smaller training accuracy compared to testing accuracy*\n",
    "2. Sample size for both reaining and testing data is also relatively small [$ \\lt 200$]\n",
    "\n",
    "*******\n",
    "* Comparing wall times; Recursive feature selection(RFECV) is faster than Backward floating elimination (SBFS)\n",
    "* **Wrapper based Sequential Forward Selection feature selection method is faster than backward elimination**. Due to option for early stopping, it can also be memory efficient.\n",
    "* But, accuracy for Backward Elimination is high as it starts with large entire sample space removes less important features. As Given dataset is not huge, backward elimination would work.\n",
    "* *Hence, For given dataset, Sequential Forward floating Selection is model of choice based on accuracy metric*\n",
    "*******"
   ]
  }
 ],
 "metadata": {
  "kernelspec": {
   "display_name": "Python 3",
   "language": "python",
   "name": "python3"
  },
  "language_info": {
   "codemirror_mode": {
    "name": "ipython",
    "version": 3
   },
   "file_extension": ".py",
   "mimetype": "text/x-python",
   "name": "python",
   "nbconvert_exporter": "python",
   "pygments_lexer": "ipython3",
   "version": "3.7.9"
  },
  "toc": {
   "base_numbering": 1,
   "nav_menu": {},
   "number_sections": false,
   "sideBar": false,
   "skip_h1_title": false,
   "title_cell": "Table of Contents",
   "title_sidebar": "Contents",
   "toc_cell": false,
   "toc_position": {},
   "toc_section_display": false,
   "toc_window_display": false
  }
 },
 "nbformat": 4,
 "nbformat_minor": 2
}
