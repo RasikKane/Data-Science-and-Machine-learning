{
 "cells": [
  {
   "cell_type": "markdown",
   "metadata": {},
   "source": [
    "---\n",
    "\n",
    "# Feature Selection : Find most informative features which improve results\n",
    "\n",
    "<span style=\"color:blue\">  \n",
    "    \n",
    "* Two datasets files namely heart-train.csv and heart-test.csv are provided.\n",
    "    \n",
    "* Objective: to assess the impact of feature selection on training and test datasets.\n",
    "    \n",
    "* Procedure: \n",
    "    * identify a good feature subset using the training dataset and test this subset on the test data. \n",
    "    * Detailed explaination about discrepancies between train and test performance along with maximising performance.\n",
    "</span>\n",
    "<br>\n",
    "<br>"
   ]
  },
  {
   "cell_type": "code",
   "execution_count": 1,
   "metadata": {},
   "outputs": [],
   "source": [
    "import numpy as np\n",
    "import pandas as pd\n",
    "import matplotlib.pyplot as plt\n",
    "from collections import Counter\n",
    "import warnings\n",
    "import pathlib"
   ]
  },
  {
   "cell_type": "code",
   "execution_count": 2,
   "metadata": {},
   "outputs": [],
   "source": [
    "from sklearn.utils import shuffle\n",
    "from sklearn.model_selection import cross_val_score, cross_val_predict\n",
    "from sklearn.metrics import accuracy_score, classification_report\n",
    "from sklearn.metrics import precision_recall_fscore_support as score\n",
    "from sklearn.model_selection import StratifiedKFold\n",
    "from sklearn.feature_selection import RFECV\n",
    "from imblearn.pipeline import Pipeline as imb_pipeline\n",
    "\n",
    "from sklearn.neighbors import KNeighborsClassifier\n",
    "from sklearn.ensemble import GradientBoostingClassifier\n",
    "from sklearn.tree import DecisionTreeClassifier\n",
    "from sklearn.linear_model import LogisticRegression\n",
    "\n",
    "from mlxtend.feature_selection import SequentialFeatureSelector as SFS\n",
    "from mlxtend.plotting import plot_sequential_feature_selection as plot_sfs"
   ]
  },
  {
   "cell_type": "code",
   "execution_count": 3,
   "metadata": {},
   "outputs": [],
   "source": [
    "# define seed for random_state\n",
    "seed = 0\n",
    "# cross valisation folds\n",
    "cv_folds = 10"
   ]
  },
  {
   "cell_type": "code",
   "execution_count": 4,
   "metadata": {},
   "outputs": [],
   "source": [
    "warnings.filterwarnings('ignore')\n",
    "# Create folder if it does not exist\n",
    "pathlib.Path('output').mkdir(exist_ok=True)"
   ]
  },
  {
   "cell_type": "markdown",
   "metadata": {},
   "source": [
    "## Supporting functions"
   ]
  },
  {
   "cell_type": "markdown",
   "metadata": {},
   "source": [
    "### Plot from a dataframe"
   ]
  },
  {
   "cell_type": "code",
   "execution_count": 5,
   "metadata": {},
   "outputs": [],
   "source": [
    "def plot_df_bar(df, kind='bar',figsize=(6,4),grid=True, use_index=True,colormap='winter', rot=20,\n",
    "                ylabel='Accuracy', xlabel='All feautures',title= 'Model Accuracy Plot',file_path=\"output/1.jpg\",show=True):\n",
    "                df.dropna().plot(kind=kind,figsize=figsize,grid=grid, use_index=use_index, rot=rot, colormap=colormap)\n",
    "                plt.ylabel(ylabel)\n",
    "                plt.xlabel(xlabel)\n",
    "                plt.title(title)\n",
    "                plt.savefig(file_path, bbox_inches='tight')\n",
    "                if show:\n",
    "                    plt.show()"
   ]
  },
  {
   "cell_type": "markdown",
   "metadata": {},
   "source": [
    "## Data Set Information\n",
    "<br>\n",
    "The dataset contains cases of patients with heart condition. Dat aset is similar to [Cleveland database for heart diseas](https://archive.ics.uci.edu/ml/datasets/heart+disease).\n",
    "\n",
    "* For convenience, datasets are predevided into heart-train.csv and heart-test.csv"
   ]
  },
  {
   "cell_type": "code",
   "execution_count": 6,
   "metadata": {
    "scrolled": true
   },
   "outputs": [
    {
     "name": "stdout",
     "output_type": "stream",
     "text": [
      "shape of training data: (199, 13) testing data: (100, 13)\n"
     ]
    }
   ],
   "source": [
    "## read train and test data into pandas dataframes\n",
    "df_train = pd.read_csv('heart-train.csv')\n",
    "df_test = pd.read_csv('heart-test.csv')\n",
    "print(\"shape of training data: {} testing data: {}\".format(df_train.shape,df_test.shape))"
   ]
  },
  {
   "cell_type": "code",
   "execution_count": 7,
   "metadata": {},
   "outputs": [
    {
     "name": "stdout",
     "output_type": "stream",
     "text": [
      "training data sample\n"
     ]
    },
    {
     "data": {
      "text/html": [
       "<div>\n",
       "<style scoped>\n",
       "    .dataframe tbody tr th:only-of-type {\n",
       "        vertical-align: middle;\n",
       "    }\n",
       "\n",
       "    .dataframe tbody tr th {\n",
       "        vertical-align: top;\n",
       "    }\n",
       "\n",
       "    .dataframe thead th {\n",
       "        text-align: right;\n",
       "    }\n",
       "</style>\n",
       "<table border=\"1\" class=\"dataframe\">\n",
       "  <thead>\n",
       "    <tr style=\"text-align: right;\">\n",
       "      <th></th>\n",
       "      <th>age</th>\n",
       "      <th>anaemia</th>\n",
       "      <th>creatinine_phosphokinase</th>\n",
       "      <th>diabetes</th>\n",
       "      <th>ejection_fraction</th>\n",
       "      <th>high_blood_pressure</th>\n",
       "      <th>platelets</th>\n",
       "      <th>serum_creatinine</th>\n",
       "      <th>serum_sodium</th>\n",
       "      <th>sex</th>\n",
       "      <th>smoking</th>\n",
       "      <th>time</th>\n",
       "      <th>DEATH_EVENT</th>\n",
       "    </tr>\n",
       "  </thead>\n",
       "  <tbody>\n",
       "    <tr>\n",
       "      <th>0</th>\n",
       "      <td>60.0</td>\n",
       "      <td>0</td>\n",
       "      <td>253</td>\n",
       "      <td>0</td>\n",
       "      <td>35</td>\n",
       "      <td>0</td>\n",
       "      <td>279000.00</td>\n",
       "      <td>1.70</td>\n",
       "      <td>140</td>\n",
       "      <td>1</td>\n",
       "      <td>0</td>\n",
       "      <td>250</td>\n",
       "      <td>0</td>\n",
       "    </tr>\n",
       "    <tr>\n",
       "      <th>1</th>\n",
       "      <td>40.0</td>\n",
       "      <td>1</td>\n",
       "      <td>129</td>\n",
       "      <td>0</td>\n",
       "      <td>35</td>\n",
       "      <td>0</td>\n",
       "      <td>255000.00</td>\n",
       "      <td>0.90</td>\n",
       "      <td>137</td>\n",
       "      <td>1</td>\n",
       "      <td>0</td>\n",
       "      <td>209</td>\n",
       "      <td>0</td>\n",
       "    </tr>\n",
       "    <tr>\n",
       "      <th>2</th>\n",
       "      <td>86.0</td>\n",
       "      <td>0</td>\n",
       "      <td>582</td>\n",
       "      <td>0</td>\n",
       "      <td>38</td>\n",
       "      <td>0</td>\n",
       "      <td>263358.03</td>\n",
       "      <td>1.83</td>\n",
       "      <td>134</td>\n",
       "      <td>0</td>\n",
       "      <td>0</td>\n",
       "      <td>95</td>\n",
       "      <td>1</td>\n",
       "    </tr>\n",
       "  </tbody>\n",
       "</table>\n",
       "</div>"
      ],
      "text/plain": [
       "    age  anaemia  creatinine_phosphokinase  diabetes  ejection_fraction  \\\n",
       "0  60.0        0                       253         0                 35   \n",
       "1  40.0        1                       129         0                 35   \n",
       "2  86.0        0                       582         0                 38   \n",
       "\n",
       "   high_blood_pressure  platelets  serum_creatinine  serum_sodium  sex  \\\n",
       "0                    0  279000.00              1.70           140    1   \n",
       "1                    0  255000.00              0.90           137    1   \n",
       "2                    0  263358.03              1.83           134    0   \n",
       "\n",
       "   smoking  time  DEATH_EVENT  \n",
       "0        0   250            0  \n",
       "1        0   209            0  \n",
       "2        0    95            1  "
      ]
     },
     "execution_count": 7,
     "metadata": {},
     "output_type": "execute_result"
    }
   ],
   "source": [
    "print(\"training data sample\")\n",
    "df_train.head(3)"
   ]
  },
  {
   "cell_type": "markdown",
   "metadata": {},
   "source": [
    "### Renaming attributes\n",
    "* **Attribute names are lengthy and inefficent for handling in a notebook. Follwing function renames attribute names in place**"
   ]
  },
  {
   "cell_type": "code",
   "execution_count": 8,
   "metadata": {},
   "outputs": [],
   "source": [
    "def rename_df_col(df, dict_col_rename = {'age':'age','anaemia':'anaemia','creatinine_phosphokinase':'cr_ph',\n",
    "                                       'diabetes':'diabetes','ejection_fraction':'eject_fr',\n",
    "                                       'high_blood_pressure':'high_bp','platelets':'platelets',\n",
    "                                       'serum_creatinine':'serum_cr','serum_sodium':'serum_sod',\n",
    "                                       'sex':'gender','smoking':'smoke','time':'time','DEATH_EVENT':'death'}):\n",
    "    df.rename(columns=dict_col_rename, inplace=True)"
   ]
  },
  {
   "cell_type": "code",
   "execution_count": 9,
   "metadata": {},
   "outputs": [],
   "source": [
    "rename_df_col(df_train)\n",
    "rename_df_col(df_test)"
   ]
  },
  {
   "cell_type": "markdown",
   "metadata": {},
   "source": [
    "### Attribute Information\n",
    "* **Numerical attributes** [age, cr_ph, eject_frac, platelets, serum_cr, serum_sod, time]\n",
    "* **Categorical attributes** [anaemia, diabetes, high_bp, gender, smoke]\n",
    "    \n",
    "**Class Information**\n",
    "* death (class attribute)\n",
    "    * 1 = the patient is diseased **['D']**\n",
    "    * 0 = the patient survived **['S']**"
   ]
  },
  {
   "cell_type": "markdown",
   "metadata": {},
   "source": [
    "### Saggregate Input and Target features  "
   ]
  },
  {
   "cell_type": "code",
   "execution_count": 10,
   "metadata": {},
   "outputs": [],
   "source": [
    "# seperate training dataframe into X_train and target to y_train.\n",
    "X_train = df_train.iloc[:,:-1]\n",
    "y_train = df_train.iloc[:,-1]\n",
    "\n",
    "# seperate testing dataframe into  X_test and target to y_test.\n",
    "X_test = df_test.iloc[:,:-1]\n",
    "y_test = df_test.iloc[:,-1]"
   ]
  },
  {
   "cell_type": "code",
   "execution_count": 11,
   "metadata": {
    "scrolled": true
   },
   "outputs": [
    {
     "data": {
      "text/html": [
       "<div>\n",
       "<style scoped>\n",
       "    .dataframe tbody tr th:only-of-type {\n",
       "        vertical-align: middle;\n",
       "    }\n",
       "\n",
       "    .dataframe tbody tr th {\n",
       "        vertical-align: top;\n",
       "    }\n",
       "\n",
       "    .dataframe thead th {\n",
       "        text-align: right;\n",
       "    }\n",
       "</style>\n",
       "<table border=\"1\" class=\"dataframe\">\n",
       "  <thead>\n",
       "    <tr style=\"text-align: right;\">\n",
       "      <th></th>\n",
       "      <th>age</th>\n",
       "      <th>anaemia</th>\n",
       "      <th>cr_ph</th>\n",
       "      <th>diabetes</th>\n",
       "      <th>eject_fr</th>\n",
       "      <th>high_bp</th>\n",
       "      <th>platelets</th>\n",
       "      <th>serum_cr</th>\n",
       "      <th>serum_sod</th>\n",
       "      <th>gender</th>\n",
       "      <th>smoke</th>\n",
       "      <th>time</th>\n",
       "    </tr>\n",
       "  </thead>\n",
       "  <tbody>\n",
       "    <tr>\n",
       "      <th>0</th>\n",
       "      <td>60.0</td>\n",
       "      <td>0</td>\n",
       "      <td>253</td>\n",
       "      <td>0</td>\n",
       "      <td>35</td>\n",
       "      <td>0</td>\n",
       "      <td>279000.00</td>\n",
       "      <td>1.70</td>\n",
       "      <td>140</td>\n",
       "      <td>1</td>\n",
       "      <td>0</td>\n",
       "      <td>250</td>\n",
       "    </tr>\n",
       "    <tr>\n",
       "      <th>1</th>\n",
       "      <td>40.0</td>\n",
       "      <td>1</td>\n",
       "      <td>129</td>\n",
       "      <td>0</td>\n",
       "      <td>35</td>\n",
       "      <td>0</td>\n",
       "      <td>255000.00</td>\n",
       "      <td>0.90</td>\n",
       "      <td>137</td>\n",
       "      <td>1</td>\n",
       "      <td>0</td>\n",
       "      <td>209</td>\n",
       "    </tr>\n",
       "    <tr>\n",
       "      <th>2</th>\n",
       "      <td>86.0</td>\n",
       "      <td>0</td>\n",
       "      <td>582</td>\n",
       "      <td>0</td>\n",
       "      <td>38</td>\n",
       "      <td>0</td>\n",
       "      <td>263358.03</td>\n",
       "      <td>1.83</td>\n",
       "      <td>134</td>\n",
       "      <td>0</td>\n",
       "      <td>0</td>\n",
       "      <td>95</td>\n",
       "    </tr>\n",
       "  </tbody>\n",
       "</table>\n",
       "</div>"
      ],
      "text/plain": [
       "    age  anaemia  cr_ph  diabetes  eject_fr  high_bp  platelets  serum_cr  \\\n",
       "0  60.0        0    253         0        35        0  279000.00      1.70   \n",
       "1  40.0        1    129         0        35        0  255000.00      0.90   \n",
       "2  86.0        0    582         0        38        0  263358.03      1.83   \n",
       "\n",
       "   serum_sod  gender  smoke  time  \n",
       "0        140       1      0   250  \n",
       "1        137       1      0   209  \n",
       "2        134       0      0    95  "
      ]
     },
     "execution_count": 11,
     "metadata": {},
     "output_type": "execute_result"
    }
   ],
   "source": [
    "X_train.head(3)"
   ]
  },
  {
   "cell_type": "markdown",
   "metadata": {},
   "source": [
    "<br>\n",
    "<br>"
   ]
  },
  {
   "cell_type": "markdown",
   "metadata": {},
   "source": [
    "## Baseline model : No feature selection"
   ]
  },
  {
   "cell_type": "markdown",
   "metadata": {},
   "source": [
    "### Gradient Boosting algorithm\n",
    "\n",
    "Gradient Boosting works on principal of \"Ensemble of Decision Tree\". **Gradient Boosting Classifier implementeation in scikit-learn supports both binary and multi-class classification.**\n",
    "* GB builds an additive model of weak decision trees in a forward stage-wise fashion\n",
    "* The weak decison tree is successively Optimized using arbitrary differentiable loss functions.\n",
    "* In each stage, n_classes_ regression trees are fit on the negative gradient of the binomial or multinomial deviance loss function. **But, addressed classification problem is Binary, hence it has induced only a single regression tree**\n",
    "\n",
    "we can convert GB algorithm to stocastic GB using **'subsample'** parameter \"f\". it is fraction of samples choosen randomly in each iteration and used for fitting the individual base learners. \n",
    "* Smaller values of f introduce randomness into the algorithm and help prevent overfitting, acting as a kind of regularization. \n",
    "* Ideal range found by Friedman, who designed Gradient boosting is $ 0.5 \\leq f \\leq 0.8$ [link](https://en.wikipedia.org/wiki/Gradient_boosting#Stochastic_gradient_boosting)\n",
    "* But, it leads to a reduction of variance and an increase in bias for smaller sample sizes; hence avoided in following implementation."
   ]
  },
  {
   "cell_type": "markdown",
   "metadata": {},
   "source": [
    "#### Define dataframe to hold results"
   ]
  },
  {
   "cell_type": "code",
   "execution_count": 12,
   "metadata": {},
   "outputs": [],
   "source": [
    "df_result = pd.DataFrame(columns = ['Test','Train'], index=['baseline', 'sbfs', 'rfecv'])"
   ]
  },
  {
   "cell_type": "markdown",
   "metadata": {},
   "source": [
    "#### Gradient Boosting Classifier"
   ]
  },
  {
   "cell_type": "code",
   "execution_count": 13,
   "metadata": {},
   "outputs": [],
   "source": [
    "\"\"\" \n",
    "#Gradient Boosting Classifier(gb_clf) is trained with :\n",
    "# loss function = deviance loss function to be optimized. ‘deviance’ refers to logistic regression for classification\n",
    "which is suitable for this problem.\n",
    "# random_state=0 maintained for reproducibility of results across other gb_clf models defined in notebook\n",
    "\"\"\"\n",
    "gb_clf_base = GradientBoostingClassifier(loss = 'deviance', random_state=seed)"
   ]
  },
  {
   "cell_type": "markdown",
   "metadata": {},
   "source": [
    "#### Hold out accuracy with test data"
   ]
  },
  {
   "cell_type": "code",
   "execution_count": 14,
   "metadata": {},
   "outputs": [],
   "source": [
    "# Us hold out technique\n",
    "# gb_clf_base model is fit with train data \n",
    "gb_clf_base.fit(X_train,y_train)\n",
    "\n",
    "#Test gb classifier test data and store value in y_pred\n",
    "y_pred = gb_clf_base.predict(X_test)\n",
    "\n",
    "#find hold out accuracy by comparing correct y_pred against actual y_test\n",
    "acc_holdout = accuracy_score(y_test,y_pred)"
   ]
  },
  {
   "cell_type": "markdown",
   "metadata": {},
   "source": [
    "#### Cross validation accuracy with train data"
   ]
  },
  {
   "cell_type": "code",
   "execution_count": 15,
   "metadata": {},
   "outputs": [],
   "source": [
    "# Use Cross Validation to evaluate model gb_clf_base using train data : which is larger sample\n",
    "scores = cross_val_score(gb_clf_base, X_train, y_train, cv=cv_folds)\n",
    "\n",
    "#find average accuracy by taking numeric mean of all cross validation scores.\n",
    "acc_cross_val = scores.mean()"
   ]
  },
  {
   "cell_type": "code",
   "execution_count": 16,
   "metadata": {
    "scrolled": true
   },
   "outputs": [
    {
     "data": {
      "image/png": "[encoded data removed]",
      "text/plain": [
       "<Figure size 432x288 with 1 Axes>"
      ]
     },
     "metadata": {
      "needs_background": "light"
     },
     "output_type": "display_data"
    }
   ],
   "source": [
    "#Bar chart for hold-out and cross validation accuracies\n",
    "df_result.loc['baseline'] = [acc_holdout, acc_cross_val]\n",
    "plot_df_bar(df_result, title= 'Model Accuracy Plot : Test[cross val] Vs Train [Holdout]', file_path=\"output/baseline.jpg\")\n"
   ]
  },
  {
   "cell_type": "markdown",
   "metadata": {},
   "source": [
    "## Feature Selection\n",
    "\n",
    "In Feature selection we need to find the best subset of all available features, which contains the smallest number of features which contribute most to the accuracy. Discard the remaining, unimportant features.\n",
    "\n",
    "**Feature Selection Strategies**\n",
    "* **Filter**: During Pre-processing step, filters evaluates the importance of features based only on their inherent characteristics, without incorporating any learning algorithm which is applied subsequently.\n",
    "    * Evaluation is based on multiple statistical parameters like Gini Index, Chi-square index etc. \n",
    "    * They are extensively used on high dimensional data where wrapper methods have a prohibitive computational cost.\n",
    "    * Unlike wrapper methods they are not subject to overfitting. \n",
    "* **Embedded methods**: This approach consists in algorithms which simultaneously perform model fitting andfeature selection. This is typically implemented by using a sparsity regularizer orconstraint which makes the weight of some features become zero. eg. Sparse Multinomial Logistic Regression, Automatic Relevance Determination Regression, LASSO, Ridge regression.\n",
    "* **Wrapper**\n",
    "    * **Sequential feature selection**: The classifier is “wrapped” in the feature selection mechanism. Feature subsets are evaluated directly based on their performance when used with that specific classifier. A key aspect of wrappers is the search strategy which generates the candidate feature subsets for evaluation.\n",
    "        * **Sequential Forward Selection (SFS)**: This method starts with empty feature subset. In each step, algorithm adds  most informative feature to subset. This procedure repeats till model performance does not improve any further.\n",
    "        * **Sequential Backward Eilimination (SBE)**: This method starts with whole feature space as subset. In each step, algorithm removes least informative feature. This procedure repeats till model performance does not improve any further. Hence, this is *feature selection by EXCLUSION*.  \n",
    "        * **Floating Selection (FS))**: Floating selection is variant used with both above methods.\n",
    "            * In case of SFS; once new additive feature included into subset; subset is reanalysed to find if *Exclusion of any present feature improves model performance*. If so, that feature is removed. \n",
    "            * In case of SBE; once another feature is excluded from subset; set of previousely excluded eatures is reanalysed to find if *Inclusion of any previousely eliminated feature improves model performance*. If so, that feature is added. \n",
    "    * **Recurssive feature eliminator with cross validation** [[Ref](https://scikit-learn.org/stable/modules/generated/sklearn.feature_selection.RFECV.html#sklearn.feature_selection.RFECV)]: scikit-learn implements RFECV : Feature ranking with recursive feature elimination and cross-validated selection of the best number of features. This is also a greedy - aproach algorithm which works on similar algorithm like *Sequential Backward Eilimination (SBE)*.     "
   ]
  },
  {
   "cell_type": "markdown",
   "metadata": {},
   "source": [
    "### Choice of Feature selection method:\n",
    "#### Filter method : Not choosen \n",
    "Filters tend to be faster and less computationally expensive than wrapper methods. But it has following limitations:\n",
    "* **Model dependancy is ignored** : Some models better aproximate certein data. But, filter ignores this model bias.\n",
    "* **Training Data size dependancy** : Training data set in question is small; hence it would not be enough to model the statistical correlation between features. And Filter methods may provide worse results than wrapper methods. \n",
    "* **Feature Correlation are ignored** Sometimes, soe of top-k features can be strongly correalted. So, unnecessarily, excess features are selected without adding significant information gain. It may also happen that a lower importance feature boosts performance in presence of some other feature in sample space.\n",
    "\n",
    "#### Recurssive feature eliminator with cross validation : Choosen for experiment\n",
    "* Implement similar algorithm alike backward selection; BUT **AUTOMATES ADDITIONAL STEP TO LOCATE AND RETRAIN INNER MODEL WITH OPTIMAL k-features**\n",
    "\n",
    "#### Sequential Backward FLOATING Eilimination selection: Choosen for experiement\n",
    "* It adds a recosideration stage to INCLUDE PREVIOUSELY REMOVED samples which may improve performance with PRESENT SAMPLE-SPACE. THIS METHOD INADVENTLY CONSIDERS POSTERIORI \"Support\" of features for each other. This is neglected in FILTER TYPES OF SELECTIONS."
   ]
  },
  {
   "cell_type": "markdown",
   "metadata": {},
   "source": [
    "## Recurssive feature eliminator with cross validation \n",
    "\n",
    "* Recursive feature elimination with cross validation (RFECV) selects features by recursively considering smaller and smaller sets of features. First, the estimator is trained on the initial set of features and the importance of each feature is obtained either through a coef_ attribute or through a feature_importances_ attribute. Then, the least important features are pruned from current set of features. That procedure is recursively repeated on the pruned set until the desired number of features to select is eventually reached.\n"
   ]
  },
  {
   "cell_type": "code",
   "execution_count": 17,
   "metadata": {},
   "outputs": [],
   "source": [
    "## Define instance of gradient boost classifier\n",
    "gb_clf_RFECV = GradientBoostingClassifier(loss = 'deviance', random_state=seed)"
   ]
  },
  {
   "cell_type": "code",
   "execution_count": 18,
   "metadata": {},
   "outputs": [
    {
     "name": "stdout",
     "output_type": "stream",
     "text": [
      "Wall time: 2.85 s\n"
     ]
    },
    {
     "data": {
      "text/plain": [
       "RFECV(cv=StratifiedKFold(n_splits=10, random_state=None, shuffle=False),\n",
       "      estimator=GradientBoostingClassifier(random_state=0),\n",
       "      min_features_to_select=2, n_jobs=-1, scoring='accuracy')"
      ]
     },
     "execution_count": 18,
     "metadata": {},
     "output_type": "execute_result"
    }
   ],
   "source": [
    "%%time\n",
    "## Implement Sequential Backward Floating Selection algorithm\n",
    "##   min_features_to_select : Specify minimum N(features) to select\n",
    "##   step : features to eliminate in each step\n",
    "##   scoring : Performance evaluation criteria uesd is accuracy\n",
    "##   cv : N(stratified cross-validation folds) stratification is important as data is imbalanced\n",
    "##   n_jobs : Set to -1 to utilize all our available CPU cores for cross-validation.\n",
    "\n",
    "k_sel = 2\n",
    "\n",
    "rfecv = RFECV(estimator=gb_clf_RFECV,\n",
    "              step=1,\n",
    "              min_features_to_select=k_sel,\n",
    "              n_jobs=-1,\n",
    "              cv=StratifiedKFold(cv_folds),\n",
    "              scoring='accuracy');\n",
    "\n",
    "rfecv.fit(X_train, y_train);"
   ]
  },
  {
   "cell_type": "code",
   "execution_count": 19,
   "metadata": {
    "scrolled": false
   },
   "outputs": [
    {
     "name": "stdout",
     "output_type": "stream",
     "text": [
      "Optimal number of features : 8\n"
     ]
    },
    {
     "data": {
      "image/png": "[encoded data removed]",
      "text/plain": [
       "<Figure size 432x288 with 1 Axes>"
      ]
     },
     "metadata": {
      "needs_background": "light"
     },
     "output_type": "display_data"
    }
   ],
   "source": [
    "print(\"Optimal number of features : %d\" % rfecv.n_features_)\n",
    "fig= plt.figure()\n",
    "plt.xlabel(\"Number of features selected\")\n",
    "plt.ylabel(\"Cross validation score (nb of correct classifications)\")\n",
    "plt.plot(range(1, len(rfecv.grid_scores_) + 1), rfecv.grid_scores_)\n",
    "plt.show()\n",
    "fig.savefig(fname=\"output/RFECV_score.jpg\", bbox_inches='tight')"
   ]
  },
  {
   "cell_type": "code",
   "execution_count": 20,
   "metadata": {
    "scrolled": false
   },
   "outputs": [
    {
     "name": "stdout",
     "output_type": "stream",
     "text": [
      "Rank for each feature's index [1 3 1 4 1 2 1 1 1 1 5 1]\n",
      "Mask for selecting top_k features [ True False  True False  True False  True  True  True  True False  True]\n"
     ]
    }
   ],
   "source": [
    "print(\"Rank for each feature's index\", rfecv.ranking_)\n",
    "print(\"Mask for selecting top_k features\", rfecv.support_)"
   ]
  },
  {
   "cell_type": "markdown",
   "metadata": {},
   "source": [
    "#### Performance with test data\n",
    "\n",
    "* **predict()** function in RFECV automatically transforms test input to selected n_features **[Ref](https://scikit-learn.org/stable/modules/generated/sklearn.feature_selection.RFECV.html#sklearn.feature_selection.RFECV.predict)**\n",
    "    * Alternatively, we can manually mask test input using model attribute *support_*\n",
    "* Testing accuracy is improved, but cross validation training accuracy is not changed significantly"
   ]
  },
  {
   "cell_type": "code",
   "execution_count": 21,
   "metadata": {},
   "outputs": [],
   "source": [
    "## Cross validation accuracy for training data with selected features\n",
    "acc_cross_val_rfecv = rfecv.grid_scores_[rfecv.n_features_ - k_sel]\n",
    "\n",
    "# Hold-out accuracy.\n",
    "#Predicting the y_pred_rfecv with selected feature test set.\n",
    "y_pred_rfecv = rfecv.predict(X_test)\n",
    "\n",
    "acc_holdout_rfecv = accuracy_score(y_pred_rfecv, y_test)"
   ]
  },
  {
   "cell_type": "code",
   "execution_count": 22,
   "metadata": {},
   "outputs": [
    {
     "data": {
      "image/png": "[encoded data removed]",
      "text/plain": [
       "<Figure size 432x288 with 1 Axes>"
      ]
     },
     "metadata": {
      "needs_background": "light"
     },
     "output_type": "display_data"
    }
   ],
   "source": [
    "#Bar chart for hold-out and cross validation accuracies\n",
    "df_result.loc['rfecv'] = [acc_holdout_rfecv,acc_cross_val_rfecv]\n",
    "\n",
    "plot_df_bar(df_result, xlabel='k-Best feautures='+ str(rfecv.n_features_),\n",
    "            title= 'Model Accuracy Plot : Test[cross val] Vs Train [Holdout]',file_path=\"output/RFECV.jpg\")"
   ]
  },
  {
   "cell_type": "markdown",
   "metadata": {},
   "source": [
    "## Sequential feature selection \n",
    "\n",
    "Sequential feature selection algorithms are a family of greedy search algorithms that are used to reduce an initial d-dimensional feature space to a k-dimensional feature subspace where k < d. It obtains following objectives [[Ref](http://rasbt.github.io/mlxtend/user_guide/feature_selection/SequentialFeatureSelector/)]:\n",
    "* Improve the computational efficiency\n",
    "* Reduce the generalization error of the model by removing irrelevant features[ or noise]\n",
    "\n",
    "### Wrapper implementation for Sequential Backward Floating Eilimination (SBFE) \n",
    "* This algorithm in mlextend library is used for feature selection [[Ref](https://towardsdatascience.com/overview-of-feature-selection-methods-a2d115c7a8f7)].\n",
    "* Wrapper compare all possible feature combinations and pick the set of feature combinations that produces the best outcome for a given machine learning algorithm. \n",
    " 1. Backward Feature Elimination: In the first phase, the classifier's performance is evaluated in accordance with each feature. Of all the features, the feature that performs the worst is eliminated.\n",
    " 2. Floating inclusion: All previously removed features are reconsidered and a feature which improves model performance when included back in feature subset is included.\n",
    " 3. 1 and 2 loop untill specified number of features defined apriori are included in samplespace.\n"
   ]
  },
  {
   "cell_type": "code",
   "execution_count": 23,
   "metadata": {},
   "outputs": [],
   "source": [
    "## Define instance of fradient boost classifier\n",
    "gb_clf_SBFS = GradientBoostingClassifier(loss = 'deviance', random_state=seed)"
   ]
  },
  {
   "cell_type": "code",
   "execution_count": 24,
   "metadata": {},
   "outputs": [],
   "source": [
    "## Implement Sequential Backward Floating Selection algorithm\n",
    "##   k_features : Specifys the N(features) to select\n",
    "##   forward : Set to False, to performs step backward.\n",
    "##   floating= Set to True, to perform floating inclusion \n",
    "##   verbose : logs the progress of the feature selector.\n",
    "##   scoring : Performance evaluation criteria uesd is accuracy\n",
    "##   cv : N(cross-validation folds)\n",
    "##   n_jobs : Set to -1 to utilize all our available CPU cores for cross-validation.\n",
    "\n",
    "sbfs = SFS(gb_clf_SBFS, \n",
    "           k_features=1, \n",
    "           forward=False, \n",
    "           floating=True, \n",
    "           scoring='accuracy',\n",
    "           cv=cv_folds,\n",
    "           n_jobs=-1)\n",
    "sbfs = sbfs.fit(X_train, y_train, custom_feature_names=X_train.columns)"
   ]
  },
  {
   "cell_type": "code",
   "execution_count": 25,
   "metadata": {
    "scrolled": false
   },
   "outputs": [
    {
     "data": {
      "image/png": "[encoded data removed]",
      "text/plain": [
       "<Figure size 576x432 with 1 Axes>"
      ]
     },
     "metadata": {
      "needs_background": "light"
     },
     "output_type": "display_data"
    },
    {
     "data": {
      "text/plain": [
       "<Figure size 432x288 with 0 Axes>"
      ]
     },
     "metadata": {},
     "output_type": "display_data"
    }
   ],
   "source": [
    "#Plot sequential backward floating feature selection to find the highest accuracy feature.\n",
    "# attribute get_metric_dict() Returns a dictionary of feature_idx, cv_scores, avg_score, ci_bound, std_dev, std_err.\n",
    "\n",
    "fig1 = plot_sfs(sbfs.get_metric_dict(), \n",
    "                ylabel='Accuracy',\n",
    "                kind='std_dev', figsize=(8,6))\n",
    "\n",
    "plt.ylim([0.5, 1])\n",
    "plt.title('Sequential Backward floating Selection : Bound with stddev')\n",
    "plt.grid()\n",
    "plt.show()"
   ]
  },
  {
   "cell_type": "markdown",
   "metadata": {},
   "source": [
    "### Locate  indexes for k features\n",
    "* We can roughly see that at samplespace size 10, maximum accuracy is obtained\n",
    "* Features contributing to this model setting are located using code below"
   ]
  },
  {
   "cell_type": "code",
   "execution_count": 26,
   "metadata": {},
   "outputs": [],
   "source": [
    "## Define instance of fradient boost classifier\n",
    "gb_clf_SBFS = GradientBoostingClassifier(loss = 'deviance', random_state=seed)"
   ]
  },
  {
   "cell_type": "code",
   "execution_count": 27,
   "metadata": {
    "scrolled": true
   },
   "outputs": [
    {
     "name": "stdout",
     "output_type": "stream",
     "text": [
      "Wall time: 3.18 s\n"
     ]
    }
   ],
   "source": [
    "%%time\n",
    "## attribute get_metric_dict() Returns a dictionary of feature_idx, cv_scores, avg_score, ci_bound, std_dev, std_err.\n",
    "df_res = pd.DataFrame(pd.DataFrame(sbfs.get_metric_dict()).loc['avg_score'].astype('float64'))\n",
    "## locate index of id where maximum average accuracy is obtained\n",
    "k_features = df_res.idxmax()\n",
    "k_num = int(k_features[0])\n",
    "\n",
    "## Locate highest 'k' features:\n",
    "\n",
    "#k_features = k_num and retrain sequential backward flaoting selector.\n",
    "sbfs = SFS(gb_clf_SBFS, \n",
    "           k_features=k_num, \n",
    "           forward=False, \n",
    "           floating=True, \n",
    "           scoring='accuracy',\n",
    "           cv=cv_folds,\n",
    "           n_jobs=-1)\n",
    "sbfs = sbfs.fit(X_train, y_train, custom_feature_names=X_train.columns)"
   ]
  },
  {
   "cell_type": "code",
   "execution_count": 28,
   "metadata": {},
   "outputs": [
    {
     "data": {
      "image/png": "[encoded data removed]",
      "text/plain": [
       "<Figure size 576x432 with 1 Axes>"
      ]
     },
     "metadata": {
      "needs_background": "light"
     },
     "output_type": "display_data"
    },
    {
     "name": "stdout",
     "output_type": "stream",
     "text": [
      "('age', 'anaemia', 'diabetes', 'eject_fr', 'platelets', 'serum_cr', 'serum_sod', 'gender', 'smoke', 'time')\n"
     ]
    },
    {
     "data": {
      "text/plain": [
       "<Figure size 432x288 with 0 Axes>"
      ]
     },
     "metadata": {},
     "output_type": "display_data"
    }
   ],
   "source": [
    "#Plot sequential backward floating feature selection to find the highest accuracy feature.\n",
    "# attribute get_metric_dict() Returns a dictionary of feature_idx, cv_scores, avg_score, ci_bound, std_dev, std_err.\n",
    "\n",
    "fig1 = plot_sfs(sbfs.get_metric_dict(), \n",
    "                ylabel='Accuracy',\n",
    "                kind='std_dev', figsize=(8,6))\n",
    "\n",
    "plt.ylim([0.5, 1])\n",
    "plt.title('Sequential Backward floating Selection : Bound with stddev')\n",
    "plt.grid()\n",
    "plt.show()\n",
    "print(sbfs.k_feature_names_)"
   ]
  },
  {
   "cell_type": "markdown",
   "metadata": {},
   "source": [
    "\n",
    "### Retrain classifier with feature subset"
   ]
  },
  {
   "cell_type": "code",
   "execution_count": 29,
   "metadata": {
    "scrolled": true
   },
   "outputs": [],
   "source": [
    "# CV accuracy is already found in previous stage\n",
    "acc_cross_val_sbfs =  sbfs.k_score_\n",
    "\n",
    "#select k best features from train and test set for training the classifier. \n",
    "X_train_sbfs = X_train[list(sbfs.k_feature_names_)]\n",
    "X_test_sbfs = X_test[list(sbfs.k_feature_names_)]\n",
    "\n",
    "#Fitting gbc classifier on X & y Features.\n",
    "gb_clf_SBFS.fit(X_train_sbfs,y_train)\n",
    "\n",
    "#Predicting the y_pred_sbfs with selected feature test set.\n",
    "y_pred_sbfs = gb_clf_SBFS.predict(X_test_sbfs)\n",
    "\n",
    "\n",
    "# Hold-out accuracy.\n",
    "acc_holdout_sbfs = accuracy_score(y_pred_sbfs,y_test)"
   ]
  },
  {
   "cell_type": "code",
   "execution_count": 30,
   "metadata": {
    "scrolled": false
   },
   "outputs": [
    {
     "data": {
      "image/png": "[encoded data removed]",
      "text/plain": [
       "<Figure size 432x288 with 1 Axes>"
      ]
     },
     "metadata": {
      "needs_background": "light"
     },
     "output_type": "display_data"
    }
   ],
   "source": [
    "#Bar chart for hold-out and cross validation accuracies\n",
    "df_result.loc['sbfs'] = [acc_holdout_sbfs,acc_cross_val_sbfs]\n",
    "\n",
    "plot_df_bar(df_result, xlabel='Sequential backward floating : k-Best feautures=10',\n",
    "            title= 'Model Accuracy Plot : Test[cross val] Vs Train [Holdout]', file_path=\"output/sbfs.jpg\")"
   ]
  },
  {
   "cell_type": "markdown",
   "metadata": {},
   "source": [
    "# Inference\n",
    "\n",
    "**FEATURE SELECTION METHOD**\n",
    "* Based on the resultant graph,  resultant accuracies for training data using cross validation are consistent across all feature sets\n",
    "* Accuracy of the classifier is most improved with Wrapper-based methods. \n",
    "\n",
    "**The discrepancies between performance on the training and test data** is due to two facts:\n",
    "1. Training data is hardly twice the size of testing data. *This is reason behind smaller training accuracy compared to testing accuracy*\n",
    "2. Sample size for both reaining and testing data is also relatively small [$ \\lt 200$]\n",
    "\n",
    "*******\n",
    "* Comparing wall times; Recursive feature selection(RFECV) is faster than Backward floating elimination (SBFS)\n",
    "* **Wrapper based Sequential Forward Selection feature selection method is faster than backward elimination**. Due to option for early stopping, it can also be memory efficient.\n",
    "* But, accuracy for Backward Elimination is high as it starts with large entire sample space removes less important features. As Given dataset is not huge, backward elimination would work.\n",
    "* *Hence, For given dataset, Sequential Forward floating Selection is model of choice based on accuracy metric*\n",
    "*******"
   ]
  },
  {
   "cell_type": "code",
   "execution_count": null,
   "metadata": {},
   "outputs": [],
   "source": []
  }
 ],
 "metadata": {
  "kernelspec": {
   "display_name": "Python 3",
   "language": "python",
   "name": "python3"
  },
  "language_info": {
   "codemirror_mode": {
    "name": "ipython",
    "version": 3
   },
   "file_extension": ".py",
   "mimetype": "text/x-python",
   "name": "python",
   "nbconvert_exporter": "python",
   "pygments_lexer": "ipython3",
   "version": "3.7.9"
  },
  "toc": {
   "base_numbering": 1,
   "nav_menu": {},
   "number_sections": false,
   "sideBar": false,
   "skip_h1_title": false,
   "title_cell": "Table of Contents",
   "title_sidebar": "Contents",
   "toc_cell": false,
   "toc_position": {},
   "toc_section_display": false,
   "toc_window_display": false
  }
 },
 "nbformat": 4,
 "nbformat_minor": 2
}
